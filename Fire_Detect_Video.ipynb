{
 "cells": [
  {
   "cell_type": "code",
   "execution_count": 1,
   "id": "6dfe30a7-12c5-41f5-bf96-5ca95a812847",
   "metadata": {},
   "outputs": [],
   "source": [
    "#import libiries\n",
    "\n",
    "from ultralytics import YOLO\n",
    "import cv2\n",
    "import time"
   ]
  },
  {
   "cell_type": "code",
   "execution_count": 2,
   "id": "797c91f4-228f-4fce-8884-1032e0133672",
   "metadata": {},
   "outputs": [],
   "source": [
    "# Load YOLO fire detection model\n",
    "\n",
    "model=YOLO('runs/detect/train/weights/best.pt')"
   ]
  },
  {
   "cell_type": "code",
   "execution_count": 4,
   "id": "b5267080-8d85-41cd-9dd4-b3e4c9f6367c",
   "metadata": {},
   "outputs": [
    {
     "name": "stdout",
     "output_type": "stream",
     "text": [
      "[info] starting video stream...\n"
     ]
    }
   ],
   "source": [
    "#start webcam\n",
    "\n",
    "print(\"[info] starting video stream...\")\n",
    "cap=cv2.VideoCapture(0)\n",
    "\n",
    "time.sleep(2.0)\n",
    "\n",
    "while True:\n",
    "    retur, frame = cap.read()\n",
    "    if not retur:\n",
    "        print(\"[ERROR] Failed to grab frame\")\n",
    "        break\n",
    "\n",
    "    #resize frame\n",
    "    frame=cv2.resize(frame, (640,480))\n",
    "\n",
    "    results=model.predict(source=frame, imgsz=640, conf=0.5, verbose=False)\n",
    "\n",
    "    #Loop through detections\n",
    "    for result in results:\n",
    "        boxes= result.boxes.xyxy.cpu().numpy()\n",
    "        scores=result.boxes.conf.cpu().numpy()\n",
    "        classes=result.boxes.cls.cpu().numpy()\n",
    "\n",
    "        for box,score,cls in zip(boxes,scores,classes):\n",
    "            (x1,y1,x2,y2)=box.astype(int)\n",
    "            conf=float(score)\n",
    "            label=f\"FIRE DETECTED: {conf:.2f}\"\n",
    "\n",
    "            #Draw rectangle and label\n",
    "            color = (0,0,255) #red color for fire\n",
    "            cv2.rectangle(frame, (x1,y1), (x2,y2), color, 2)\n",
    "            cv2.putText(frame, label, (x1,y1 - 10),\n",
    "                        cv2.FONT_HERSHEY_SIMPLEX, 0.6, color, 2)\n",
    "\n",
    "\n",
    "    cv2.imshow('Fire Detection', frame)\n",
    "\n",
    "    if cv2.waitKey(1) & 0xFF == ord('q'):\n",
    "        break\n",
    "\n",
    "# release the capture\n",
    "cap.release()\n",
    "cv2.destroyAllWindows()"
   ]
  },
  {
   "cell_type": "code",
   "execution_count": null,
   "id": "1e959b89-125f-4ae1-ad5c-5260cfc2d4f5",
   "metadata": {},
   "outputs": [],
   "source": []
  }
 ],
 "metadata": {
  "kernelspec": {
   "display_name": "Python 3 (ipykernel)",
   "language": "python",
   "name": "python3"
  },
  "language_info": {
   "codemirror_mode": {
    "name": "ipython",
    "version": 3
   },
   "file_extension": ".py",
   "mimetype": "text/x-python",
   "name": "python",
   "nbconvert_exporter": "python",
   "pygments_lexer": "ipython3",
   "version": "3.11.11"
  }
 },
 "nbformat": 4,
 "nbformat_minor": 5
}
