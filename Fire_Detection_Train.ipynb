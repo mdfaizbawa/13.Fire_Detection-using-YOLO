{
 "cells": [
  {
   "cell_type": "code",
   "execution_count": 1,
   "id": "0c2054a7-3cc5-46fc-a7b6-e94d8acb01fe",
   "metadata": {},
   "outputs": [],
   "source": [
    "from ultralytics import YOLO"
   ]
  },
  {
   "cell_type": "code",
   "execution_count": 1,
   "id": "c27642e4-676e-4164-9778-3d0de7a2df7d",
   "metadata": {},
   "outputs": [
    {
     "name": "stdout",
     "output_type": "stream",
     "text": [
      "Downloading https://github.com/ultralytics/assets/releases/download/v8.3.0/yolov5su.pt to 'yolov5su.pt'...\n"
     ]
    },
    {
     "name": "stderr",
     "output_type": "stream",
     "text": [
      "100%|█████████████████████████████████████████████████████████████████████████████| 17.7M/17.7M [00:00<00:00, 21.0MB/s]\n"
     ]
    }
   ],
   "source": [
    "#Load Pretrained YOLOv5 model\n",
    "model = YOLO('yolov5su.pt') "
   ]
  },
  {
   "cell_type": "code",
   "execution_count": 2,
   "id": "08630d81-7ae6-44b9-820b-7785b80ae6b5",
   "metadata": {},
   "outputs": [
    {
     "name": "stdout",
     "output_type": "stream",
     "text": [
      "New https://pypi.org/project/ultralytics/8.3.119 available  Update with 'pip install -U ultralytics'\n",
      "Ultralytics 8.3.118  Python-3.11.11 torch-2.7.0+cpu CPU (12th Gen Intel Core(TM) i5-1235U)\n",
      "\u001b[34m\u001b[1mengine\\trainer: \u001b[0mtask=detect, mode=train, model=yolov5su.pt, data=dataset/data.yaml, epochs=20, time=None, patience=100, batch=16, imgsz=640, save=True, save_period=-1, cache=False, device=None, workers=8, project=None, name=train, exist_ok=False, pretrained=True, optimizer=auto, verbose=True, seed=0, deterministic=True, single_cls=False, rect=False, cos_lr=False, close_mosaic=10, resume=False, amp=True, fraction=1.0, profile=False, freeze=None, multi_scale=False, overlap_mask=True, mask_ratio=4, dropout=0.0, val=True, split=val, save_json=False, conf=None, iou=0.7, max_det=300, half=False, dnn=False, plots=True, source=None, vid_stride=1, stream_buffer=False, visualize=False, augment=False, agnostic_nms=False, classes=None, retina_masks=False, embed=None, show=False, save_frames=False, save_txt=False, save_conf=False, save_crop=False, show_labels=True, show_conf=True, show_boxes=True, line_width=None, format=torchscript, keras=False, optimize=False, int8=False, dynamic=False, simplify=True, opset=None, workspace=None, nms=False, lr0=0.01, lrf=0.01, momentum=0.937, weight_decay=0.0005, warmup_epochs=3.0, warmup_momentum=0.8, warmup_bias_lr=0.1, box=7.5, cls=0.5, dfl=1.5, pose=12.0, kobj=1.0, nbs=64, hsv_h=0.015, hsv_s=0.7, hsv_v=0.4, degrees=0.0, translate=0.1, scale=0.5, shear=0.0, perspective=0.0, flipud=0.0, fliplr=0.5, bgr=0.0, mosaic=1.0, mixup=0.0, copy_paste=0.0, copy_paste_mode=flip, auto_augment=randaugment, erasing=0.4, cfg=None, tracker=botsort.yaml, save_dir=runs\\detect\\train\n",
      "Overriding model.yaml nc=80 with nc=1\n",
      "\n",
      "                   from  n    params  module                                       arguments                     \n",
      "  0                  -1  1      3520  ultralytics.nn.modules.conv.Conv             [3, 32, 6, 2, 2]              \n",
      "  1                  -1  1     18560  ultralytics.nn.modules.conv.Conv             [32, 64, 3, 2]                \n",
      "  2                  -1  1     18816  ultralytics.nn.modules.block.C3              [64, 64, 1]                   \n",
      "  3                  -1  1     73984  ultralytics.nn.modules.conv.Conv             [64, 128, 3, 2]               \n",
      "  4                  -1  2    115712  ultralytics.nn.modules.block.C3              [128, 128, 2]                 \n",
      "  5                  -1  1    295424  ultralytics.nn.modules.conv.Conv             [128, 256, 3, 2]              \n",
      "  6                  -1  3    625152  ultralytics.nn.modules.block.C3              [256, 256, 3]                 \n",
      "  7                  -1  1   1180672  ultralytics.nn.modules.conv.Conv             [256, 512, 3, 2]              \n",
      "  8                  -1  1   1182720  ultralytics.nn.modules.block.C3              [512, 512, 1]                 \n",
      "  9                  -1  1    656896  ultralytics.nn.modules.block.SPPF            [512, 512, 5]                 \n",
      " 10                  -1  1    131584  ultralytics.nn.modules.conv.Conv             [512, 256, 1, 1]              \n",
      " 11                  -1  1         0  torch.nn.modules.upsampling.Upsample         [None, 2, 'nearest']          \n",
      " 12             [-1, 6]  1         0  ultralytics.nn.modules.conv.Concat           [1]                           \n",
      " 13                  -1  1    361984  ultralytics.nn.modules.block.C3              [512, 256, 1, False]          \n",
      " 14                  -1  1     33024  ultralytics.nn.modules.conv.Conv             [256, 128, 1, 1]              \n",
      " 15                  -1  1         0  torch.nn.modules.upsampling.Upsample         [None, 2, 'nearest']          \n",
      " 16             [-1, 4]  1         0  ultralytics.nn.modules.conv.Concat           [1]                           \n",
      " 17                  -1  1     90880  ultralytics.nn.modules.block.C3              [256, 128, 1, False]          \n",
      " 18                  -1  1    147712  ultralytics.nn.modules.conv.Conv             [128, 128, 3, 2]              \n",
      " 19            [-1, 14]  1         0  ultralytics.nn.modules.conv.Concat           [1]                           \n",
      " 20                  -1  1    296448  ultralytics.nn.modules.block.C3              [256, 256, 1, False]          \n",
      " 21                  -1  1    590336  ultralytics.nn.modules.conv.Conv             [256, 256, 3, 2]              \n",
      " 22            [-1, 10]  1         0  ultralytics.nn.modules.conv.Concat           [1]                           \n",
      " 23                  -1  1   1182720  ultralytics.nn.modules.block.C3              [512, 512, 1, False]          \n",
      " 24        [17, 20, 23]  1   2116435  ultralytics.nn.modules.head.Detect           [1, [128, 256, 512]]          \n",
      "YOLOv5s summary: 153 layers, 9,122,579 parameters, 9,122,563 gradients, 24.0 GFLOPs\n",
      "\n",
      "Transferred 421/427 items from pretrained weights\n",
      "Freezing layer 'model.24.dfl.conv.weight'\n",
      "\u001b[34m\u001b[1mtrain: \u001b[0mFast image access  (ping: 0.20.1 ms, read: 8.917.7 MB/s, size: 16.1 KB)\n"
     ]
    },
    {
     "name": "stderr",
     "output_type": "stream",
     "text": [
      "\u001b[34m\u001b[1mtrain: \u001b[0mScanning D:\\AI and Data science course\\11.Deep Learning\\6.Fire_Detection_New\\dataset\\train\\labels... 657 images,\u001b[0m\n"
     ]
    },
    {
     "name": "stdout",
     "output_type": "stream",
     "text": [
      "\u001b[34m\u001b[1mtrain: \u001b[0mNew cache created: D:\\AI and Data science course\\11.Deep Learning\\6.Fire_Detection_New\\dataset\\train\\labels.cache\n",
      "\u001b[34m\u001b[1mval: \u001b[0mFast image access  (ping: 0.20.1 ms, read: 1.60.7 MB/s, size: 21.3 KB)\n"
     ]
    },
    {
     "name": "stderr",
     "output_type": "stream",
     "text": [
      "C:\\Anaconda\\envs\\aiml\\Lib\\site-packages\\torch\\utils\\data\\dataloader.py:665: UserWarning: 'pin_memory' argument is set as true but no accelerator is found, then device pinned memory won't be used.\n",
      "  warnings.warn(warn_msg)\n",
      "\u001b[34m\u001b[1mval: \u001b[0mScanning D:\\AI and Data science course\\11.Deep Learning\\6.Fire_Detection_New\\dataset\\valid\\labels... 82 images, 20\u001b[0m"
     ]
    },
    {
     "name": "stdout",
     "output_type": "stream",
     "text": [
      "\u001b[34m\u001b[1mval: \u001b[0mNew cache created: D:\\AI and Data science course\\11.Deep Learning\\6.Fire_Detection_New\\dataset\\valid\\labels.cache\n"
     ]
    },
    {
     "name": "stderr",
     "output_type": "stream",
     "text": [
      "\n",
      "C:\\Anaconda\\envs\\aiml\\Lib\\site-packages\\torch\\utils\\data\\dataloader.py:665: UserWarning: 'pin_memory' argument is set as true but no accelerator is found, then device pinned memory won't be used.\n",
      "  warnings.warn(warn_msg)\n"
     ]
    },
    {
     "name": "stdout",
     "output_type": "stream",
     "text": [
      "Plotting labels to runs\\detect\\train\\labels.jpg... \n",
      "\u001b[34m\u001b[1moptimizer:\u001b[0m 'optimizer=auto' found, ignoring 'lr0=0.01' and 'momentum=0.937' and determining best 'optimizer', 'lr0' and 'momentum' automatically... \n",
      "\u001b[34m\u001b[1moptimizer:\u001b[0m AdamW(lr=0.002, momentum=0.9) with parameter groups 69 weight(decay=0.0), 76 weight(decay=0.0005), 75 bias(decay=0.0)\n",
      "Image sizes 640 train, 640 val\n",
      "Using 0 dataloader workers\n",
      "Logging results to \u001b[1mruns\\detect\\train\u001b[0m\n",
      "Starting training for 20 epochs...\n",
      "\n",
      "      Epoch    GPU_mem   box_loss   cls_loss   dfl_loss  Instances       Size\n"
     ]
    },
    {
     "name": "stderr",
     "output_type": "stream",
     "text": [
      "       1/20         0G       1.51      2.126      1.547          3        640: 100%|██████████| 42/42 [11:09<00:00, 15.\n",
      "                 Class     Images  Instances      Box(P          R      mAP50  mAP50-95): 100%|██████████| 3/3 [00:29<0"
     ]
    },
    {
     "name": "stdout",
     "output_type": "stream",
     "text": [
      "                   all         82        123      0.173      0.146     0.0636     0.0214\n"
     ]
    },
    {
     "name": "stderr",
     "output_type": "stream",
     "text": [
      "\n"
     ]
    },
    {
     "name": "stdout",
     "output_type": "stream",
     "text": [
      "\n",
      "      Epoch    GPU_mem   box_loss   cls_loss   dfl_loss  Instances       Size\n"
     ]
    },
    {
     "name": "stderr",
     "output_type": "stream",
     "text": [
      "       2/20         0G      1.625      1.752      1.594          1        640: 100%|██████████| 42/42 [10:27<00:00, 14.\n",
      "                 Class     Images  Instances      Box(P          R      mAP50  mAP50-95): 100%|██████████| 3/3 [00:28<0"
     ]
    },
    {
     "name": "stdout",
     "output_type": "stream",
     "text": [
      "                   all         82        123      0.132      0.106     0.0548     0.0172\n"
     ]
    },
    {
     "name": "stderr",
     "output_type": "stream",
     "text": [
      "\n"
     ]
    },
    {
     "name": "stdout",
     "output_type": "stream",
     "text": [
      "\n",
      "      Epoch    GPU_mem   box_loss   cls_loss   dfl_loss  Instances       Size\n"
     ]
    },
    {
     "name": "stderr",
     "output_type": "stream",
     "text": [
      "       3/20         0G      1.805      1.841      1.727          1        640: 100%|██████████| 42/42 [10:33<00:00, 15.\n",
      "                 Class     Images  Instances      Box(P          R      mAP50  mAP50-95): 100%|██████████| 3/3 [00:30<0"
     ]
    },
    {
     "name": "stdout",
     "output_type": "stream",
     "text": [
      "                   all         82        123     0.0426      0.203     0.0747     0.0226\n"
     ]
    },
    {
     "name": "stderr",
     "output_type": "stream",
     "text": [
      "\n"
     ]
    },
    {
     "name": "stdout",
     "output_type": "stream",
     "text": [
      "\n",
      "      Epoch    GPU_mem   box_loss   cls_loss   dfl_loss  Instances       Size\n"
     ]
    },
    {
     "name": "stderr",
     "output_type": "stream",
     "text": [
      "       4/20         0G      1.781      1.772      1.703          4        640: 100%|██████████| 42/42 [10:35<00:00, 15.\n",
      "                 Class     Images  Instances      Box(P          R      mAP50  mAP50-95): 100%|██████████| 3/3 [00:29<0"
     ]
    },
    {
     "name": "stdout",
     "output_type": "stream",
     "text": [
      "                   all         82        123     0.0132      0.146    0.00786     0.0023\n"
     ]
    },
    {
     "name": "stderr",
     "output_type": "stream",
     "text": [
      "\n"
     ]
    },
    {
     "name": "stdout",
     "output_type": "stream",
     "text": [
      "\n",
      "      Epoch    GPU_mem   box_loss   cls_loss   dfl_loss  Instances       Size\n"
     ]
    },
    {
     "name": "stderr",
     "output_type": "stream",
     "text": [
      "       5/20         0G      1.705       1.67      1.669          2        640: 100%|██████████| 42/42 [10:30<00:00, 15.\n",
      "                 Class     Images  Instances      Box(P          R      mAP50  mAP50-95): 100%|██████████| 3/3 [00:29<0"
     ]
    },
    {
     "name": "stdout",
     "output_type": "stream",
     "text": [
      "                   all         82        123      0.315      0.293      0.203     0.0663\n"
     ]
    },
    {
     "name": "stderr",
     "output_type": "stream",
     "text": [
      "\n"
     ]
    },
    {
     "name": "stdout",
     "output_type": "stream",
     "text": [
      "\n",
      "      Epoch    GPU_mem   box_loss   cls_loss   dfl_loss  Instances       Size\n"
     ]
    },
    {
     "name": "stderr",
     "output_type": "stream",
     "text": [
      "       6/20         0G      1.717      1.606      1.669          1        640: 100%|██████████| 42/42 [10:27<00:00, 14.\n",
      "                 Class     Images  Instances      Box(P          R      mAP50  mAP50-95): 100%|██████████| 3/3 [00:29<0"
     ]
    },
    {
     "name": "stdout",
     "output_type": "stream",
     "text": [
      "                   all         82        123      0.149       0.22      0.104     0.0249\n"
     ]
    },
    {
     "name": "stderr",
     "output_type": "stream",
     "text": [
      "\n"
     ]
    },
    {
     "name": "stdout",
     "output_type": "stream",
     "text": [
      "\n",
      "      Epoch    GPU_mem   box_loss   cls_loss   dfl_loss  Instances       Size\n"
     ]
    },
    {
     "name": "stderr",
     "output_type": "stream",
     "text": [
      "       7/20         0G      1.576      1.464      1.531          2        640: 100%|██████████| 42/42 [10:43<00:00, 15.\n",
      "                 Class     Images  Instances      Box(P          R      mAP50  mAP50-95): 100%|██████████| 3/3 [00:29<0"
     ]
    },
    {
     "name": "stdout",
     "output_type": "stream",
     "text": [
      "                   all         82        123      0.143      0.146     0.0483     0.0157\n"
     ]
    },
    {
     "name": "stderr",
     "output_type": "stream",
     "text": [
      "\n"
     ]
    },
    {
     "name": "stdout",
     "output_type": "stream",
     "text": [
      "\n",
      "      Epoch    GPU_mem   box_loss   cls_loss   dfl_loss  Instances       Size\n"
     ]
    },
    {
     "name": "stderr",
     "output_type": "stream",
     "text": [
      "       8/20         0G      1.531      1.349      1.495          3        640: 100%|██████████| 42/42 [10:29<00:00, 14.\n",
      "                 Class     Images  Instances      Box(P          R      mAP50  mAP50-95): 100%|██████████| 3/3 [00:28<0"
     ]
    },
    {
     "name": "stdout",
     "output_type": "stream",
     "text": [
      "                   all         82        123      0.317      0.252      0.207     0.0715\n"
     ]
    },
    {
     "name": "stderr",
     "output_type": "stream",
     "text": [
      "\n"
     ]
    },
    {
     "name": "stdout",
     "output_type": "stream",
     "text": [
      "\n",
      "      Epoch    GPU_mem   box_loss   cls_loss   dfl_loss  Instances       Size\n"
     ]
    },
    {
     "name": "stderr",
     "output_type": "stream",
     "text": [
      "       9/20         0G      1.544      1.353      1.496          4        640: 100%|██████████| 42/42 [10:31<00:00, 15.\n",
      "                 Class     Images  Instances      Box(P          R      mAP50  mAP50-95): 100%|██████████| 3/3 [00:29<0"
     ]
    },
    {
     "name": "stdout",
     "output_type": "stream",
     "text": [
      "                   all         82        123       0.27       0.39      0.238      0.108\n"
     ]
    },
    {
     "name": "stderr",
     "output_type": "stream",
     "text": [
      "\n"
     ]
    },
    {
     "name": "stdout",
     "output_type": "stream",
     "text": [
      "\n",
      "      Epoch    GPU_mem   box_loss   cls_loss   dfl_loss  Instances       Size\n"
     ]
    },
    {
     "name": "stderr",
     "output_type": "stream",
     "text": [
      "      10/20         0G      1.449      1.284       1.46          1        640: 100%|██████████| 42/42 [10:30<00:00, 15.\n",
      "                 Class     Images  Instances      Box(P          R      mAP50  mAP50-95): 100%|██████████| 3/3 [00:27<0"
     ]
    },
    {
     "name": "stdout",
     "output_type": "stream",
     "text": [
      "                   all         82        123      0.299      0.407      0.281      0.106\n"
     ]
    },
    {
     "name": "stderr",
     "output_type": "stream",
     "text": [
      "\n"
     ]
    },
    {
     "name": "stdout",
     "output_type": "stream",
     "text": [
      "Closing dataloader mosaic\n",
      "\n",
      "      Epoch    GPU_mem   box_loss   cls_loss   dfl_loss  Instances       Size\n"
     ]
    },
    {
     "name": "stderr",
     "output_type": "stream",
     "text": [
      "C:\\Anaconda\\envs\\aiml\\Lib\\site-packages\\torch\\utils\\data\\dataloader.py:665: UserWarning: 'pin_memory' argument is set as true but no accelerator is found, then device pinned memory won't be used.\n",
      "  warnings.warn(warn_msg)\n",
      "      11/20         0G      1.478      1.333      1.541          1        640: 100%|██████████| 42/42 [10:28<00:00, 14.\n",
      "                 Class     Images  Instances      Box(P          R      mAP50  mAP50-95): 100%|██████████| 3/3 [00:29<0"
     ]
    },
    {
     "name": "stdout",
     "output_type": "stream",
     "text": [
      "                   all         82        123      0.333      0.415      0.306      0.123\n"
     ]
    },
    {
     "name": "stderr",
     "output_type": "stream",
     "text": [
      "\n"
     ]
    },
    {
     "name": "stdout",
     "output_type": "stream",
     "text": [
      "\n",
      "      Epoch    GPU_mem   box_loss   cls_loss   dfl_loss  Instances       Size\n"
     ]
    },
    {
     "name": "stderr",
     "output_type": "stream",
     "text": [
      "      12/20         0G      1.427      1.237       1.46          3        640: 100%|██████████| 42/42 [10:30<00:00, 15.\n",
      "                 Class     Images  Instances      Box(P          R      mAP50  mAP50-95): 100%|██████████| 3/3 [00:28<0"
     ]
    },
    {
     "name": "stdout",
     "output_type": "stream",
     "text": [
      "                   all         82        123       0.33      0.472       0.34      0.125\n"
     ]
    },
    {
     "name": "stderr",
     "output_type": "stream",
     "text": [
      "\n"
     ]
    },
    {
     "name": "stdout",
     "output_type": "stream",
     "text": [
      "\n",
      "      Epoch    GPU_mem   box_loss   cls_loss   dfl_loss  Instances       Size\n"
     ]
    },
    {
     "name": "stderr",
     "output_type": "stream",
     "text": [
      "      13/20         0G      1.398      1.131      1.444          1        640: 100%|██████████| 42/42 [10:31<00:00, 15.\n",
      "                 Class     Images  Instances      Box(P          R      mAP50  mAP50-95): 100%|██████████| 3/3 [00:28<0"
     ]
    },
    {
     "name": "stdout",
     "output_type": "stream",
     "text": [
      "                   all         82        123       0.33       0.38      0.304      0.116\n"
     ]
    },
    {
     "name": "stderr",
     "output_type": "stream",
     "text": [
      "\n"
     ]
    },
    {
     "name": "stdout",
     "output_type": "stream",
     "text": [
      "\n",
      "      Epoch    GPU_mem   box_loss   cls_loss   dfl_loss  Instances       Size\n"
     ]
    },
    {
     "name": "stderr",
     "output_type": "stream",
     "text": [
      "      14/20         0G      1.341      1.099      1.397          1        640: 100%|██████████| 42/42 [10:28<00:00, 14.\n",
      "                 Class     Images  Instances      Box(P          R      mAP50  mAP50-95): 100%|██████████| 3/3 [00:28<0"
     ]
    },
    {
     "name": "stdout",
     "output_type": "stream",
     "text": [
      "                   all         82        123      0.435      0.463      0.419      0.182\n"
     ]
    },
    {
     "name": "stderr",
     "output_type": "stream",
     "text": [
      "\n"
     ]
    },
    {
     "name": "stdout",
     "output_type": "stream",
     "text": [
      "\n",
      "      Epoch    GPU_mem   box_loss   cls_loss   dfl_loss  Instances       Size\n"
     ]
    },
    {
     "name": "stderr",
     "output_type": "stream",
     "text": [
      "      15/20         0G      1.299      1.067      1.375          1        640: 100%|██████████| 42/42 [10:31<00:00, 15.\n",
      "                 Class     Images  Instances      Box(P          R      mAP50  mAP50-95): 100%|██████████| 3/3 [00:28<0"
     ]
    },
    {
     "name": "stdout",
     "output_type": "stream",
     "text": [
      "                   all         82        123      0.644      0.496      0.542      0.243\n"
     ]
    },
    {
     "name": "stderr",
     "output_type": "stream",
     "text": [
      "\n"
     ]
    },
    {
     "name": "stdout",
     "output_type": "stream",
     "text": [
      "\n",
      "      Epoch    GPU_mem   box_loss   cls_loss   dfl_loss  Instances       Size\n"
     ]
    },
    {
     "name": "stderr",
     "output_type": "stream",
     "text": [
      "      16/20         0G      1.336      1.061      1.385          1        640: 100%|██████████| 42/42 [10:27<00:00, 14.\n",
      "                 Class     Images  Instances      Box(P          R      mAP50  mAP50-95): 100%|██████████| 3/3 [00:28<0"
     ]
    },
    {
     "name": "stdout",
     "output_type": "stream",
     "text": [
      "                   all         82        123      0.608      0.398      0.498       0.25\n"
     ]
    },
    {
     "name": "stderr",
     "output_type": "stream",
     "text": [
      "\n"
     ]
    },
    {
     "name": "stdout",
     "output_type": "stream",
     "text": [
      "\n",
      "      Epoch    GPU_mem   box_loss   cls_loss   dfl_loss  Instances       Size\n"
     ]
    },
    {
     "name": "stderr",
     "output_type": "stream",
     "text": [
      "      17/20         0G      1.237      0.982      1.338          1        640: 100%|██████████| 42/42 [10:23<00:00, 14.\n",
      "                 Class     Images  Instances      Box(P          R      mAP50  mAP50-95): 100%|██████████| 3/3 [00:28<0"
     ]
    },
    {
     "name": "stdout",
     "output_type": "stream",
     "text": [
      "                   all         82        123      0.605      0.488      0.549      0.269\n"
     ]
    },
    {
     "name": "stderr",
     "output_type": "stream",
     "text": [
      "\n"
     ]
    },
    {
     "name": "stdout",
     "output_type": "stream",
     "text": [
      "\n",
      "      Epoch    GPU_mem   box_loss   cls_loss   dfl_loss  Instances       Size\n"
     ]
    },
    {
     "name": "stderr",
     "output_type": "stream",
     "text": [
      "      18/20         0G      1.205      1.012      1.322          9        640: 100%|██████████| 42/42 [10:24<00:00, 14.\n",
      "                 Class     Images  Instances      Box(P          R      mAP50  mAP50-95): 100%|██████████| 3/3 [00:28<0"
     ]
    },
    {
     "name": "stdout",
     "output_type": "stream",
     "text": [
      "                   all         82        123      0.629      0.455      0.547      0.273\n"
     ]
    },
    {
     "name": "stderr",
     "output_type": "stream",
     "text": [
      "\n"
     ]
    },
    {
     "name": "stdout",
     "output_type": "stream",
     "text": [
      "\n",
      "      Epoch    GPU_mem   box_loss   cls_loss   dfl_loss  Instances       Size\n"
     ]
    },
    {
     "name": "stderr",
     "output_type": "stream",
     "text": [
      "      19/20         0G      1.132      0.904      1.267          1        640: 100%|██████████| 42/42 [10:32<00:00, 15.\n",
      "                 Class     Images  Instances      Box(P          R      mAP50  mAP50-95): 100%|██████████| 3/3 [00:29<0"
     ]
    },
    {
     "name": "stdout",
     "output_type": "stream",
     "text": [
      "                   all         82        123      0.475      0.553      0.512      0.253\n"
     ]
    },
    {
     "name": "stderr",
     "output_type": "stream",
     "text": [
      "\n"
     ]
    },
    {
     "name": "stdout",
     "output_type": "stream",
     "text": [
      "\n",
      "      Epoch    GPU_mem   box_loss   cls_loss   dfl_loss  Instances       Size\n"
     ]
    },
    {
     "name": "stderr",
     "output_type": "stream",
     "text": [
      "      20/20         0G      1.103     0.8663      1.239          1        640: 100%|██████████| 42/42 [10:25<00:00, 14.\n",
      "                 Class     Images  Instances      Box(P          R      mAP50  mAP50-95): 100%|██████████| 3/3 [00:28<0"
     ]
    },
    {
     "name": "stdout",
     "output_type": "stream",
     "text": [
      "                   all         82        123      0.658      0.439      0.551      0.268\n"
     ]
    },
    {
     "name": "stderr",
     "output_type": "stream",
     "text": [
      "\n"
     ]
    },
    {
     "name": "stdout",
     "output_type": "stream",
     "text": [
      "\n",
      "20 epochs completed in 3.679 hours.\n",
      "Optimizer stripped from runs\\detect\\train\\weights\\last.pt, 18.5MB\n",
      "Optimizer stripped from runs\\detect\\train\\weights\\best.pt, 18.5MB\n",
      "\n",
      "Validating runs\\detect\\train\\weights\\best.pt...\n",
      "Ultralytics 8.3.118  Python-3.11.11 torch-2.7.0+cpu CPU (12th Gen Intel Core(TM) i5-1235U)\n",
      "YOLOv5s summary (fused): 84 layers, 9,111,923 parameters, 0 gradients, 23.8 GFLOPs\n"
     ]
    },
    {
     "name": "stderr",
     "output_type": "stream",
     "text": [
      "                 Class     Images  Instances      Box(P          R      mAP50  mAP50-95): 100%|██████████| 3/3 [00:25<0\n"
     ]
    },
    {
     "name": "stdout",
     "output_type": "stream",
     "text": [
      "                   all         82        123      0.628      0.455      0.548      0.273\n",
      "Speed: 4.9ms preprocess, 293.5ms inference, 0.0ms loss, 1.7ms postprocess per image\n",
      "Results saved to \u001b[1mruns\\detect\\train\u001b[0m\n"
     ]
    },
    {
     "data": {
      "text/plain": [
       "ultralytics.utils.metrics.DetMetrics object with attributes:\n",
       "\n",
       "ap_class_index: array([0])\n",
       "box: ultralytics.utils.metrics.Metric object\n",
       "confusion_matrix: <ultralytics.utils.metrics.ConfusionMatrix object at 0x00000246A61B3B10>\n",
       "curves: ['Precision-Recall(B)', 'F1-Confidence(B)', 'Precision-Confidence(B)', 'Recall-Confidence(B)']\n",
       "curves_results: [[array([          0,    0.001001,    0.002002,    0.003003,    0.004004,    0.005005,    0.006006,    0.007007,    0.008008,    0.009009,     0.01001,    0.011011,    0.012012,    0.013013,    0.014014,    0.015015,    0.016016,    0.017017,    0.018018,    0.019019,     0.02002,    0.021021,    0.022022,    0.023023,\n",
       "          0.024024,    0.025025,    0.026026,    0.027027,    0.028028,    0.029029,     0.03003,    0.031031,    0.032032,    0.033033,    0.034034,    0.035035,    0.036036,    0.037037,    0.038038,    0.039039,     0.04004,    0.041041,    0.042042,    0.043043,    0.044044,    0.045045,    0.046046,    0.047047,\n",
       "          0.048048,    0.049049,     0.05005,    0.051051,    0.052052,    0.053053,    0.054054,    0.055055,    0.056056,    0.057057,    0.058058,    0.059059,     0.06006,    0.061061,    0.062062,    0.063063,    0.064064,    0.065065,    0.066066,    0.067067,    0.068068,    0.069069,     0.07007,    0.071071,\n",
       "          0.072072,    0.073073,    0.074074,    0.075075,    0.076076,    0.077077,    0.078078,    0.079079,     0.08008,    0.081081,    0.082082,    0.083083,    0.084084,    0.085085,    0.086086,    0.087087,    0.088088,    0.089089,     0.09009,    0.091091,    0.092092,    0.093093,    0.094094,    0.095095,\n",
       "          0.096096,    0.097097,    0.098098,    0.099099,      0.1001,      0.1011,      0.1021,      0.1031,      0.1041,     0.10511,     0.10611,     0.10711,     0.10811,     0.10911,     0.11011,     0.11111,     0.11211,     0.11311,     0.11411,     0.11512,     0.11612,     0.11712,     0.11812,     0.11912,\n",
       "           0.12012,     0.12112,     0.12212,     0.12312,     0.12412,     0.12513,     0.12613,     0.12713,     0.12813,     0.12913,     0.13013,     0.13113,     0.13213,     0.13313,     0.13413,     0.13514,     0.13614,     0.13714,     0.13814,     0.13914,     0.14014,     0.14114,     0.14214,     0.14314,\n",
       "           0.14414,     0.14515,     0.14615,     0.14715,     0.14815,     0.14915,     0.15015,     0.15115,     0.15215,     0.15315,     0.15415,     0.15516,     0.15616,     0.15716,     0.15816,     0.15916,     0.16016,     0.16116,     0.16216,     0.16316,     0.16416,     0.16517,     0.16617,     0.16717,\n",
       "           0.16817,     0.16917,     0.17017,     0.17117,     0.17217,     0.17317,     0.17417,     0.17518,     0.17618,     0.17718,     0.17818,     0.17918,     0.18018,     0.18118,     0.18218,     0.18318,     0.18418,     0.18519,     0.18619,     0.18719,     0.18819,     0.18919,     0.19019,     0.19119,\n",
       "           0.19219,     0.19319,     0.19419,      0.1952,      0.1962,      0.1972,      0.1982,      0.1992,      0.2002,      0.2012,      0.2022,      0.2032,      0.2042,     0.20521,     0.20621,     0.20721,     0.20821,     0.20921,     0.21021,     0.21121,     0.21221,     0.21321,     0.21421,     0.21522,\n",
       "           0.21622,     0.21722,     0.21822,     0.21922,     0.22022,     0.22122,     0.22222,     0.22322,     0.22422,     0.22523,     0.22623,     0.22723,     0.22823,     0.22923,     0.23023,     0.23123,     0.23223,     0.23323,     0.23423,     0.23524,     0.23624,     0.23724,     0.23824,     0.23924,\n",
       "           0.24024,     0.24124,     0.24224,     0.24324,     0.24424,     0.24525,     0.24625,     0.24725,     0.24825,     0.24925,     0.25025,     0.25125,     0.25225,     0.25325,     0.25425,     0.25526,     0.25626,     0.25726,     0.25826,     0.25926,     0.26026,     0.26126,     0.26226,     0.26326,\n",
       "           0.26426,     0.26527,     0.26627,     0.26727,     0.26827,     0.26927,     0.27027,     0.27127,     0.27227,     0.27327,     0.27427,     0.27528,     0.27628,     0.27728,     0.27828,     0.27928,     0.28028,     0.28128,     0.28228,     0.28328,     0.28428,     0.28529,     0.28629,     0.28729,\n",
       "           0.28829,     0.28929,     0.29029,     0.29129,     0.29229,     0.29329,     0.29429,      0.2953,      0.2963,      0.2973,      0.2983,      0.2993,      0.3003,      0.3013,      0.3023,      0.3033,      0.3043,     0.30531,     0.30631,     0.30731,     0.30831,     0.30931,     0.31031,     0.31131,\n",
       "           0.31231,     0.31331,     0.31431,     0.31532,     0.31632,     0.31732,     0.31832,     0.31932,     0.32032,     0.32132,     0.32232,     0.32332,     0.32432,     0.32533,     0.32633,     0.32733,     0.32833,     0.32933,     0.33033,     0.33133,     0.33233,     0.33333,     0.33433,     0.33534,\n",
       "           0.33634,     0.33734,     0.33834,     0.33934,     0.34034,     0.34134,     0.34234,     0.34334,     0.34434,     0.34535,     0.34635,     0.34735,     0.34835,     0.34935,     0.35035,     0.35135,     0.35235,     0.35335,     0.35435,     0.35536,     0.35636,     0.35736,     0.35836,     0.35936,\n",
       "           0.36036,     0.36136,     0.36236,     0.36336,     0.36436,     0.36537,     0.36637,     0.36737,     0.36837,     0.36937,     0.37037,     0.37137,     0.37237,     0.37337,     0.37437,     0.37538,     0.37638,     0.37738,     0.37838,     0.37938,     0.38038,     0.38138,     0.38238,     0.38338,\n",
       "           0.38438,     0.38539,     0.38639,     0.38739,     0.38839,     0.38939,     0.39039,     0.39139,     0.39239,     0.39339,     0.39439,      0.3954,      0.3964,      0.3974,      0.3984,      0.3994,      0.4004,      0.4014,      0.4024,      0.4034,      0.4044,     0.40541,     0.40641,     0.40741,\n",
       "           0.40841,     0.40941,     0.41041,     0.41141,     0.41241,     0.41341,     0.41441,     0.41542,     0.41642,     0.41742,     0.41842,     0.41942,     0.42042,     0.42142,     0.42242,     0.42342,     0.42442,     0.42543,     0.42643,     0.42743,     0.42843,     0.42943,     0.43043,     0.43143,\n",
       "           0.43243,     0.43343,     0.43443,     0.43544,     0.43644,     0.43744,     0.43844,     0.43944,     0.44044,     0.44144,     0.44244,     0.44344,     0.44444,     0.44545,     0.44645,     0.44745,     0.44845,     0.44945,     0.45045,     0.45145,     0.45245,     0.45345,     0.45445,     0.45546,\n",
       "           0.45646,     0.45746,     0.45846,     0.45946,     0.46046,     0.46146,     0.46246,     0.46346,     0.46446,     0.46547,     0.46647,     0.46747,     0.46847,     0.46947,     0.47047,     0.47147,     0.47247,     0.47347,     0.47447,     0.47548,     0.47648,     0.47748,     0.47848,     0.47948,\n",
       "           0.48048,     0.48148,     0.48248,     0.48348,     0.48448,     0.48549,     0.48649,     0.48749,     0.48849,     0.48949,     0.49049,     0.49149,     0.49249,     0.49349,     0.49449,      0.4955,      0.4965,      0.4975,      0.4985,      0.4995,      0.5005,      0.5015,      0.5025,      0.5035,\n",
       "            0.5045,     0.50551,     0.50651,     0.50751,     0.50851,     0.50951,     0.51051,     0.51151,     0.51251,     0.51351,     0.51451,     0.51552,     0.51652,     0.51752,     0.51852,     0.51952,     0.52052,     0.52152,     0.52252,     0.52352,     0.52452,     0.52553,     0.52653,     0.52753,\n",
       "           0.52853,     0.52953,     0.53053,     0.53153,     0.53253,     0.53353,     0.53453,     0.53554,     0.53654,     0.53754,     0.53854,     0.53954,     0.54054,     0.54154,     0.54254,     0.54354,     0.54454,     0.54555,     0.54655,     0.54755,     0.54855,     0.54955,     0.55055,     0.55155,\n",
       "           0.55255,     0.55355,     0.55455,     0.55556,     0.55656,     0.55756,     0.55856,     0.55956,     0.56056,     0.56156,     0.56256,     0.56356,     0.56456,     0.56557,     0.56657,     0.56757,     0.56857,     0.56957,     0.57057,     0.57157,     0.57257,     0.57357,     0.57457,     0.57558,\n",
       "           0.57658,     0.57758,     0.57858,     0.57958,     0.58058,     0.58158,     0.58258,     0.58358,     0.58458,     0.58559,     0.58659,     0.58759,     0.58859,     0.58959,     0.59059,     0.59159,     0.59259,     0.59359,     0.59459,      0.5956,      0.5966,      0.5976,      0.5986,      0.5996,\n",
       "            0.6006,      0.6016,      0.6026,      0.6036,      0.6046,     0.60561,     0.60661,     0.60761,     0.60861,     0.60961,     0.61061,     0.61161,     0.61261,     0.61361,     0.61461,     0.61562,     0.61662,     0.61762,     0.61862,     0.61962,     0.62062,     0.62162,     0.62262,     0.62362,\n",
       "           0.62462,     0.62563,     0.62663,     0.62763,     0.62863,     0.62963,     0.63063,     0.63163,     0.63263,     0.63363,     0.63463,     0.63564,     0.63664,     0.63764,     0.63864,     0.63964,     0.64064,     0.64164,     0.64264,     0.64364,     0.64464,     0.64565,     0.64665,     0.64765,\n",
       "           0.64865,     0.64965,     0.65065,     0.65165,     0.65265,     0.65365,     0.65465,     0.65566,     0.65666,     0.65766,     0.65866,     0.65966,     0.66066,     0.66166,     0.66266,     0.66366,     0.66466,     0.66567,     0.66667,     0.66767,     0.66867,     0.66967,     0.67067,     0.67167,\n",
       "           0.67267,     0.67367,     0.67467,     0.67568,     0.67668,     0.67768,     0.67868,     0.67968,     0.68068,     0.68168,     0.68268,     0.68368,     0.68468,     0.68569,     0.68669,     0.68769,     0.68869,     0.68969,     0.69069,     0.69169,     0.69269,     0.69369,     0.69469,      0.6957,\n",
       "            0.6967,      0.6977,      0.6987,      0.6997,      0.7007,      0.7017,      0.7027,      0.7037,      0.7047,     0.70571,     0.70671,     0.70771,     0.70871,     0.70971,     0.71071,     0.71171,     0.71271,     0.71371,     0.71471,     0.71572,     0.71672,     0.71772,     0.71872,     0.71972,\n",
       "           0.72072,     0.72172,     0.72272,     0.72372,     0.72472,     0.72573,     0.72673,     0.72773,     0.72873,     0.72973,     0.73073,     0.73173,     0.73273,     0.73373,     0.73473,     0.73574,     0.73674,     0.73774,     0.73874,     0.73974,     0.74074,     0.74174,     0.74274,     0.74374,\n",
       "           0.74474,     0.74575,     0.74675,     0.74775,     0.74875,     0.74975,     0.75075,     0.75175,     0.75275,     0.75375,     0.75475,     0.75576,     0.75676,     0.75776,     0.75876,     0.75976,     0.76076,     0.76176,     0.76276,     0.76376,     0.76476,     0.76577,     0.76677,     0.76777,\n",
       "           0.76877,     0.76977,     0.77077,     0.77177,     0.77277,     0.77377,     0.77477,     0.77578,     0.77678,     0.77778,     0.77878,     0.77978,     0.78078,     0.78178,     0.78278,     0.78378,     0.78478,     0.78579,     0.78679,     0.78779,     0.78879,     0.78979,     0.79079,     0.79179,\n",
       "           0.79279,     0.79379,     0.79479,      0.7958,      0.7968,      0.7978,      0.7988,      0.7998,      0.8008,      0.8018,      0.8028,      0.8038,      0.8048,     0.80581,     0.80681,     0.80781,     0.80881,     0.80981,     0.81081,     0.81181,     0.81281,     0.81381,     0.81481,     0.81582,\n",
       "           0.81682,     0.81782,     0.81882,     0.81982,     0.82082,     0.82182,     0.82282,     0.82382,     0.82482,     0.82583,     0.82683,     0.82783,     0.82883,     0.82983,     0.83083,     0.83183,     0.83283,     0.83383,     0.83483,     0.83584,     0.83684,     0.83784,     0.83884,     0.83984,\n",
       "           0.84084,     0.84184,     0.84284,     0.84384,     0.84484,     0.84585,     0.84685,     0.84785,     0.84885,     0.84985,     0.85085,     0.85185,     0.85285,     0.85385,     0.85485,     0.85586,     0.85686,     0.85786,     0.85886,     0.85986,     0.86086,     0.86186,     0.86286,     0.86386,\n",
       "           0.86486,     0.86587,     0.86687,     0.86787,     0.86887,     0.86987,     0.87087,     0.87187,     0.87287,     0.87387,     0.87487,     0.87588,     0.87688,     0.87788,     0.87888,     0.87988,     0.88088,     0.88188,     0.88288,     0.88388,     0.88488,     0.88589,     0.88689,     0.88789,\n",
       "           0.88889,     0.88989,     0.89089,     0.89189,     0.89289,     0.89389,     0.89489,      0.8959,      0.8969,      0.8979,      0.8989,      0.8999,      0.9009,      0.9019,      0.9029,      0.9039,      0.9049,     0.90591,     0.90691,     0.90791,     0.90891,     0.90991,     0.91091,     0.91191,\n",
       "           0.91291,     0.91391,     0.91491,     0.91592,     0.91692,     0.91792,     0.91892,     0.91992,     0.92092,     0.92192,     0.92292,     0.92392,     0.92492,     0.92593,     0.92693,     0.92793,     0.92893,     0.92993,     0.93093,     0.93193,     0.93293,     0.93393,     0.93493,     0.93594,\n",
       "           0.93694,     0.93794,     0.93894,     0.93994,     0.94094,     0.94194,     0.94294,     0.94394,     0.94494,     0.94595,     0.94695,     0.94795,     0.94895,     0.94995,     0.95095,     0.95195,     0.95295,     0.95395,     0.95495,     0.95596,     0.95696,     0.95796,     0.95896,     0.95996,\n",
       "           0.96096,     0.96196,     0.96296,     0.96396,     0.96496,     0.96597,     0.96697,     0.96797,     0.96897,     0.96997,     0.97097,     0.97197,     0.97297,     0.97397,     0.97497,     0.97598,     0.97698,     0.97798,     0.97898,     0.97998,     0.98098,     0.98198,     0.98298,     0.98398,\n",
       "           0.98498,     0.98599,     0.98699,     0.98799,     0.98899,     0.98999,     0.99099,     0.99199,     0.99299,     0.99399,     0.99499,       0.996,       0.997,       0.998,       0.999,           1]), array([[          1,           1,           1,           1,           1,           1,           1,           1,           1,           1,           1,           1,           1,           1,           1,           1,           1,           1,           1,           1,           1,           1,           1,\n",
       "                  1,           1,           1,           1,           1,           1,           1,           1,           1,           1,           1,           1,           1,           1,           1,           1,           1,           1,           1,           1,           1,           1,           1,\n",
       "                  1,           1,           1,           1,           1,           1,           1,           1,           1,           1,           1,           1,           1,           1,           1,           1,           1,           1,           1,           1,           1,           1,           1,\n",
       "                  1,           1,           1,           1,           1,           1,           1,           1,           1,           1,           1,           1,           1,           1,           1,           1,           1,           1,           1,           1,           1,           1,           1,\n",
       "                  1,           1,           1,           1,           1,           1,           1,           1,           1,           1,           1,           1,           1,           1,           1,           1,           1,           1,           1,           1,           1,           1,           1,\n",
       "                  1,           1,           1,           1,           1,           1,           1,           1,           1,           1,           1,           1,           1,           1,           1,           1,           1,           1,           1,           1,           1,           1,           1,\n",
       "                  1,           1,           1,           1,           1,           1,           1,           1,           1,           1,           1,           1,           1,           1,           1,           1,           1,     0.96154,     0.96154,     0.96154,     0.96154,     0.96154,     0.96154,\n",
       "            0.96154,     0.96154,     0.96154,     0.96154,     0.96154,     0.96154,     0.96154,     0.96154,     0.96154,     0.96154,     0.96154,     0.96154,     0.96154,     0.96154,     0.96154,     0.96154,     0.96154,     0.96154,     0.96154,     0.96154,     0.96154,     0.96154,     0.96154,\n",
       "            0.96154,     0.96154,     0.96154,     0.96154,     0.96154,     0.96154,     0.96154,     0.96154,     0.96154,     0.96154,     0.96154,     0.96154,     0.96154,     0.96154,     0.96154,     0.96154,     0.96154,     0.96154,     0.96154,     0.96154,     0.92857,     0.92857,     0.92857,\n",
       "            0.92857,     0.92857,     0.92857,     0.92857,     0.92857,     0.87879,     0.87879,     0.87879,     0.87879,     0.87879,     0.87879,     0.87879,     0.87879,     0.87879,     0.87879,     0.87879,     0.87879,     0.87879,     0.87879,     0.87879,     0.87879,     0.87879,     0.87879,\n",
       "            0.87879,     0.87879,     0.87879,     0.87879,     0.87879,     0.87879,       0.875,       0.875,       0.875,       0.875,       0.875,       0.875,       0.875,       0.875,       0.875,       0.875,       0.875,       0.875,       0.875,       0.875,       0.875,       0.875,       0.875,\n",
       "              0.875,       0.875,       0.875,       0.875,       0.875,       0.875,       0.875,       0.875,       0.875,       0.875,       0.875,       0.875,       0.875,       0.875,       0.875,       0.875,       0.875,       0.875,       0.875,       0.875,       0.875,       0.875,       0.875,\n",
       "              0.875,       0.875,       0.875,       0.875,       0.875,       0.875,       0.875,       0.875,       0.875,     0.87234,     0.87234,     0.87234,     0.87234,     0.87234,     0.87234,     0.87234,     0.87234,     0.87234,     0.87234,     0.87234,     0.87234,     0.87234,     0.87234,\n",
       "            0.87234,     0.87234,     0.87234,     0.87234,     0.87234,     0.87234,     0.87234,     0.87234,     0.87234,     0.87234,     0.87234,     0.87234,     0.87234,     0.87234,     0.87234,     0.87234,     0.87234,     0.87234,     0.87234,     0.87234,     0.87234,     0.87234,     0.87234,\n",
       "            0.87234,     0.87234,     0.87234,     0.87234,     0.87234,     0.87234,     0.87234,     0.87234,     0.87234,     0.87234,     0.87234,     0.85714,     0.85714,     0.85714,     0.85714,     0.85714,     0.85714,     0.85714,     0.85714,     0.85714,     0.84615,     0.84615,     0.84615,\n",
       "            0.84615,     0.84615,     0.84615,     0.84615,     0.84615,     0.84615,     0.84615,     0.84615,     0.84615,     0.84615,     0.84615,     0.84615,     0.84615,     0.82143,     0.82143,     0.82143,     0.82143,     0.82143,     0.82143,     0.82143,     0.82143,     0.82143,     0.82143,\n",
       "            0.82143,     0.82143,     0.82143,     0.82143,     0.82143,     0.82143,     0.78333,     0.78333,     0.78333,     0.78333,     0.78333,     0.78333,     0.78333,     0.78333,     0.77419,     0.77419,     0.77419,     0.77419,     0.77419,     0.77419,     0.77419,     0.77419,     0.73913,\n",
       "            0.73913,     0.73913,     0.73913,     0.73913,     0.73913,     0.73913,     0.73913,     0.73913,     0.73913,     0.73913,     0.73913,     0.73913,     0.73913,     0.73913,     0.73913,     0.73913,     0.73913,     0.73913,     0.73913,     0.73913,     0.73913,     0.73913,     0.73913,\n",
       "            0.73913,     0.73239,     0.73239,     0.73239,     0.73239,     0.73239,     0.73239,     0.73239,     0.73239,     0.70667,     0.70667,     0.70667,     0.70667,     0.70667,     0.70667,     0.70667,     0.70667,     0.70513,     0.70513,     0.70513,     0.70513,     0.70513,     0.70513,\n",
       "            0.70513,     0.70513,     0.70513,     0.70513,     0.70513,     0.70513,     0.70513,     0.70513,     0.70513,     0.70513,         0.7,         0.7,         0.7,         0.7,         0.7,         0.7,         0.7,         0.7,     0.62766,     0.62766,     0.62766,     0.62766,     0.62766,\n",
       "            0.62766,     0.62766,     0.62766,     0.62766,     0.62766,     0.62766,     0.62766,     0.62766,     0.62766,     0.62766,     0.62766,     0.62766,     0.62766,     0.62766,     0.62766,     0.62766,     0.62766,     0.62766,     0.62766,     0.62766,       0.625,       0.625,       0.625,\n",
       "              0.625,       0.625,       0.625,       0.625,       0.625,     0.59223,     0.59223,     0.59223,     0.59223,     0.59223,     0.59223,     0.59223,     0.59223,     0.56881,     0.56881,     0.56881,     0.56881,     0.56881,     0.56881,     0.56881,     0.56881,     0.54783,     0.54783,\n",
       "            0.54783,     0.54783,     0.54783,     0.54783,     0.54783,     0.54783,     0.53782,     0.53782,     0.53782,     0.53782,     0.53782,     0.53782,     0.53782,     0.53782,     0.51562,     0.51562,     0.51562,     0.51562,     0.51562,     0.51562,     0.51562,     0.51562,     0.51562,\n",
       "            0.51562,     0.51562,     0.51562,     0.51562,     0.51562,     0.51562,     0.51562,     0.51562,     0.51515,     0.51515,     0.51515,     0.51515,     0.51515,     0.51515,     0.51515,     0.51515,     0.51515,     0.51515,     0.51515,     0.51515,     0.51515,     0.51515,     0.51515,\n",
       "            0.51515,     0.51111,     0.51111,     0.51111,     0.51111,     0.51111,     0.51111,     0.51111,     0.51111,     0.51095,     0.51095,     0.51095,     0.51095,     0.51095,     0.51095,     0.51095,     0.51095,         0.5,         0.5,         0.5,         0.5,         0.5,         0.5,\n",
       "                0.5,         0.5,     0.46795,     0.46795,     0.46795,     0.46795,     0.46795,     0.46795,     0.46795,     0.46795,     0.46795,     0.46795,     0.46795,     0.46795,     0.46795,     0.46795,     0.46795,     0.46795,     0.45399,     0.45399,     0.45399,     0.45399,     0.45399,\n",
       "            0.45399,     0.45399,     0.45399,     0.45399,     0.43605,     0.43605,     0.43605,     0.43605,     0.43605,     0.43605,     0.43605,     0.43605,     0.42623,     0.42623,     0.42623,     0.42623,     0.42623,     0.42623,     0.42623,     0.42623,     0.42623,     0.42623,     0.42623,\n",
       "            0.42623,     0.42623,     0.42623,     0.42623,     0.42623,     0.42623,     0.42623,     0.42623,     0.42623,     0.42623,     0.42623,     0.42623,     0.42623,     0.42246,     0.42246,     0.42246,     0.42246,     0.42246,     0.42246,     0.42246,     0.42246,     0.41885,     0.41885,\n",
       "            0.41885,     0.41885,     0.41885,     0.41885,     0.41885,     0.41885,     0.39901,     0.39901,     0.39901,     0.39901,     0.39901,     0.39901,     0.39901,     0.39901,      0.3166,      0.3166,      0.3166,      0.3166,      0.3166,      0.3166,      0.3166,      0.3166,     0.29856,\n",
       "            0.29856,     0.29856,     0.29856,     0.29856,     0.29856,     0.29856,     0.29856,     0.29856,     0.27302,     0.27302,     0.27302,     0.27302,     0.27302,     0.27302,     0.27302,     0.27302,     0.27302,     0.27302,     0.27302,     0.27302,     0.27302,     0.27302,     0.27302,\n",
       "            0.27302,     0.27302,     0.27302,     0.27302,     0.27302,     0.27302,     0.27302,     0.27302,     0.27302,     0.26687,     0.26687,     0.26687,     0.26687,     0.26687,     0.26687,     0.26687,     0.26687,     0.23978,     0.23978,     0.23978,     0.23978,     0.23978,     0.23978,\n",
       "            0.23978,     0.23978,     0.23298,     0.23298,     0.23298,     0.23298,     0.23298,     0.23298,     0.23298,     0.23298,     0.23018,     0.23018,     0.23018,     0.23018,     0.23018,     0.23018,     0.23018,     0.23018,     0.21016,     0.21016,     0.21016,     0.21016,     0.21016,\n",
       "            0.21016,     0.21016,     0.21016,     0.21016,     0.20721,     0.20721,     0.20721,     0.20721,     0.20721,     0.20721,     0.20721,     0.20721,      0.2013,      0.2013,      0.2013,      0.2013,      0.2013,      0.2013,      0.2013,      0.2013,     0.19583,     0.19583,     0.19583,\n",
       "            0.19583,     0.19583,     0.19583,     0.19583,     0.19583,     0.11216,     0.11216,     0.11216,     0.11216,     0.11216,     0.11216,     0.11216,     0.11216,     0.10584,     0.10584,     0.10584,     0.10584,     0.10584,     0.10584,     0.10584,     0.10584,    0.094083,    0.094083,\n",
       "           0.094083,    0.094083,    0.094083,    0.094083,    0.094083,    0.094083,    0.075269,    0.075269,    0.075269,    0.075269,    0.075269,    0.075269,    0.075269,    0.075269,    0.072157,    0.072157,    0.072157,    0.072157,    0.072157,    0.072157,    0.072157,    0.072157,    0.072157,\n",
       "           0.070872,    0.070872,    0.070872,    0.070872,    0.070872,    0.070872,    0.070872,    0.070872,    0.063363,    0.063363,    0.063363,    0.063363,    0.063363,    0.063363,    0.063363,    0.063363,    0.058587,    0.058587,    0.058587,    0.058587,    0.058587,    0.058587,    0.058587,\n",
       "           0.058587,    0.055287,    0.055287,    0.055287,    0.055287,    0.055287,    0.055287,    0.055287,    0.055287,    0.052605,    0.052605,    0.052605,    0.052605,    0.052605,    0.052605,    0.052605,    0.052605,    0.042787,    0.042787,    0.042787,    0.042787,    0.042787,    0.042787,\n",
       "           0.042787,    0.042787,    0.041732,    0.041732,    0.041732,    0.041732,    0.041732,    0.041732,    0.041732,    0.041732,    0.039295,    0.039295,    0.039295,    0.039295,    0.039295,    0.039295,    0.039295,    0.039295,    0.039295,    0.030699,    0.030699,    0.030699,    0.030699,\n",
       "           0.030699,    0.030699,    0.030699,    0.030699,    0.029121,    0.029121,    0.029121,    0.029121,    0.029121,    0.029121,    0.029121,    0.029121,    0.024192,    0.024192,    0.024192,    0.024192,    0.024192,    0.024192,    0.024192,    0.024192,    0.018744,    0.018566,    0.018387,\n",
       "           0.018208,     0.01803,    0.017851,    0.017673,    0.017494,    0.017316,    0.017137,    0.016959,     0.01678,    0.016602,    0.016423,    0.016245,    0.016066,    0.015888,    0.015709,    0.015531,    0.015352,    0.015174,    0.014995,    0.014817,    0.014638,     0.01446,    0.014281,\n",
       "           0.014103,    0.013924,    0.013746,    0.013567,    0.013389,     0.01321,    0.013032,    0.012853,    0.012675,    0.012496,    0.012318,    0.012139,     0.01196,    0.011782,    0.011603,    0.011425,    0.011246,    0.011068,    0.010889,    0.010711,    0.010532,    0.010354,    0.010175,\n",
       "          0.0099968,   0.0098183,   0.0096398,   0.0094613,   0.0092828,   0.0091042,   0.0089257,   0.0087472,   0.0085687,   0.0083902,   0.0082117,   0.0080332,   0.0078546,   0.0076761,   0.0074976,   0.0073191,   0.0071406,   0.0069621,   0.0067836,    0.006605,   0.0064265,    0.006248,   0.0060695,\n",
       "           0.005891,   0.0057125,    0.005534,   0.0053554,   0.0051769,   0.0049984,   0.0048199,   0.0046414,   0.0044629,   0.0042843,   0.0041058,   0.0039273,   0.0037488,   0.0035703,   0.0033918,   0.0032133,   0.0030347,   0.0028562,   0.0026777,   0.0024992,   0.0023207,   0.0021422,   0.0019637,\n",
       "          0.0017851,   0.0016066,   0.0014281,   0.0012496,   0.0010711,  0.00089257,  0.00071406,  0.00053554,  0.00035703,  0.00017851,           0]]), 'Recall', 'Precision'], [array([          0,    0.001001,    0.002002,    0.003003,    0.004004,    0.005005,    0.006006,    0.007007,    0.008008,    0.009009,     0.01001,    0.011011,    0.012012,    0.013013,    0.014014,    0.015015,    0.016016,    0.017017,    0.018018,    0.019019,     0.02002,    0.021021,    0.022022,    0.023023,\n",
       "          0.024024,    0.025025,    0.026026,    0.027027,    0.028028,    0.029029,     0.03003,    0.031031,    0.032032,    0.033033,    0.034034,    0.035035,    0.036036,    0.037037,    0.038038,    0.039039,     0.04004,    0.041041,    0.042042,    0.043043,    0.044044,    0.045045,    0.046046,    0.047047,\n",
       "          0.048048,    0.049049,     0.05005,    0.051051,    0.052052,    0.053053,    0.054054,    0.055055,    0.056056,    0.057057,    0.058058,    0.059059,     0.06006,    0.061061,    0.062062,    0.063063,    0.064064,    0.065065,    0.066066,    0.067067,    0.068068,    0.069069,     0.07007,    0.071071,\n",
       "          0.072072,    0.073073,    0.074074,    0.075075,    0.076076,    0.077077,    0.078078,    0.079079,     0.08008,    0.081081,    0.082082,    0.083083,    0.084084,    0.085085,    0.086086,    0.087087,    0.088088,    0.089089,     0.09009,    0.091091,    0.092092,    0.093093,    0.094094,    0.095095,\n",
       "          0.096096,    0.097097,    0.098098,    0.099099,      0.1001,      0.1011,      0.1021,      0.1031,      0.1041,     0.10511,     0.10611,     0.10711,     0.10811,     0.10911,     0.11011,     0.11111,     0.11211,     0.11311,     0.11411,     0.11512,     0.11612,     0.11712,     0.11812,     0.11912,\n",
       "           0.12012,     0.12112,     0.12212,     0.12312,     0.12412,     0.12513,     0.12613,     0.12713,     0.12813,     0.12913,     0.13013,     0.13113,     0.13213,     0.13313,     0.13413,     0.13514,     0.13614,     0.13714,     0.13814,     0.13914,     0.14014,     0.14114,     0.14214,     0.14314,\n",
       "           0.14414,     0.14515,     0.14615,     0.14715,     0.14815,     0.14915,     0.15015,     0.15115,     0.15215,     0.15315,     0.15415,     0.15516,     0.15616,     0.15716,     0.15816,     0.15916,     0.16016,     0.16116,     0.16216,     0.16316,     0.16416,     0.16517,     0.16617,     0.16717,\n",
       "           0.16817,     0.16917,     0.17017,     0.17117,     0.17217,     0.17317,     0.17417,     0.17518,     0.17618,     0.17718,     0.17818,     0.17918,     0.18018,     0.18118,     0.18218,     0.18318,     0.18418,     0.18519,     0.18619,     0.18719,     0.18819,     0.18919,     0.19019,     0.19119,\n",
       "           0.19219,     0.19319,     0.19419,      0.1952,      0.1962,      0.1972,      0.1982,      0.1992,      0.2002,      0.2012,      0.2022,      0.2032,      0.2042,     0.20521,     0.20621,     0.20721,     0.20821,     0.20921,     0.21021,     0.21121,     0.21221,     0.21321,     0.21421,     0.21522,\n",
       "           0.21622,     0.21722,     0.21822,     0.21922,     0.22022,     0.22122,     0.22222,     0.22322,     0.22422,     0.22523,     0.22623,     0.22723,     0.22823,     0.22923,     0.23023,     0.23123,     0.23223,     0.23323,     0.23423,     0.23524,     0.23624,     0.23724,     0.23824,     0.23924,\n",
       "           0.24024,     0.24124,     0.24224,     0.24324,     0.24424,     0.24525,     0.24625,     0.24725,     0.24825,     0.24925,     0.25025,     0.25125,     0.25225,     0.25325,     0.25425,     0.25526,     0.25626,     0.25726,     0.25826,     0.25926,     0.26026,     0.26126,     0.26226,     0.26326,\n",
       "           0.26426,     0.26527,     0.26627,     0.26727,     0.26827,     0.26927,     0.27027,     0.27127,     0.27227,     0.27327,     0.27427,     0.27528,     0.27628,     0.27728,     0.27828,     0.27928,     0.28028,     0.28128,     0.28228,     0.28328,     0.28428,     0.28529,     0.28629,     0.28729,\n",
       "           0.28829,     0.28929,     0.29029,     0.29129,     0.29229,     0.29329,     0.29429,      0.2953,      0.2963,      0.2973,      0.2983,      0.2993,      0.3003,      0.3013,      0.3023,      0.3033,      0.3043,     0.30531,     0.30631,     0.30731,     0.30831,     0.30931,     0.31031,     0.31131,\n",
       "           0.31231,     0.31331,     0.31431,     0.31532,     0.31632,     0.31732,     0.31832,     0.31932,     0.32032,     0.32132,     0.32232,     0.32332,     0.32432,     0.32533,     0.32633,     0.32733,     0.32833,     0.32933,     0.33033,     0.33133,     0.33233,     0.33333,     0.33433,     0.33534,\n",
       "           0.33634,     0.33734,     0.33834,     0.33934,     0.34034,     0.34134,     0.34234,     0.34334,     0.34434,     0.34535,     0.34635,     0.34735,     0.34835,     0.34935,     0.35035,     0.35135,     0.35235,     0.35335,     0.35435,     0.35536,     0.35636,     0.35736,     0.35836,     0.35936,\n",
       "           0.36036,     0.36136,     0.36236,     0.36336,     0.36436,     0.36537,     0.36637,     0.36737,     0.36837,     0.36937,     0.37037,     0.37137,     0.37237,     0.37337,     0.37437,     0.37538,     0.37638,     0.37738,     0.37838,     0.37938,     0.38038,     0.38138,     0.38238,     0.38338,\n",
       "           0.38438,     0.38539,     0.38639,     0.38739,     0.38839,     0.38939,     0.39039,     0.39139,     0.39239,     0.39339,     0.39439,      0.3954,      0.3964,      0.3974,      0.3984,      0.3994,      0.4004,      0.4014,      0.4024,      0.4034,      0.4044,     0.40541,     0.40641,     0.40741,\n",
       "           0.40841,     0.40941,     0.41041,     0.41141,     0.41241,     0.41341,     0.41441,     0.41542,     0.41642,     0.41742,     0.41842,     0.41942,     0.42042,     0.42142,     0.42242,     0.42342,     0.42442,     0.42543,     0.42643,     0.42743,     0.42843,     0.42943,     0.43043,     0.43143,\n",
       "           0.43243,     0.43343,     0.43443,     0.43544,     0.43644,     0.43744,     0.43844,     0.43944,     0.44044,     0.44144,     0.44244,     0.44344,     0.44444,     0.44545,     0.44645,     0.44745,     0.44845,     0.44945,     0.45045,     0.45145,     0.45245,     0.45345,     0.45445,     0.45546,\n",
       "           0.45646,     0.45746,     0.45846,     0.45946,     0.46046,     0.46146,     0.46246,     0.46346,     0.46446,     0.46547,     0.46647,     0.46747,     0.46847,     0.46947,     0.47047,     0.47147,     0.47247,     0.47347,     0.47447,     0.47548,     0.47648,     0.47748,     0.47848,     0.47948,\n",
       "           0.48048,     0.48148,     0.48248,     0.48348,     0.48448,     0.48549,     0.48649,     0.48749,     0.48849,     0.48949,     0.49049,     0.49149,     0.49249,     0.49349,     0.49449,      0.4955,      0.4965,      0.4975,      0.4985,      0.4995,      0.5005,      0.5015,      0.5025,      0.5035,\n",
       "            0.5045,     0.50551,     0.50651,     0.50751,     0.50851,     0.50951,     0.51051,     0.51151,     0.51251,     0.51351,     0.51451,     0.51552,     0.51652,     0.51752,     0.51852,     0.51952,     0.52052,     0.52152,     0.52252,     0.52352,     0.52452,     0.52553,     0.52653,     0.52753,\n",
       "           0.52853,     0.52953,     0.53053,     0.53153,     0.53253,     0.53353,     0.53453,     0.53554,     0.53654,     0.53754,     0.53854,     0.53954,     0.54054,     0.54154,     0.54254,     0.54354,     0.54454,     0.54555,     0.54655,     0.54755,     0.54855,     0.54955,     0.55055,     0.55155,\n",
       "           0.55255,     0.55355,     0.55455,     0.55556,     0.55656,     0.55756,     0.55856,     0.55956,     0.56056,     0.56156,     0.56256,     0.56356,     0.56456,     0.56557,     0.56657,     0.56757,     0.56857,     0.56957,     0.57057,     0.57157,     0.57257,     0.57357,     0.57457,     0.57558,\n",
       "           0.57658,     0.57758,     0.57858,     0.57958,     0.58058,     0.58158,     0.58258,     0.58358,     0.58458,     0.58559,     0.58659,     0.58759,     0.58859,     0.58959,     0.59059,     0.59159,     0.59259,     0.59359,     0.59459,      0.5956,      0.5966,      0.5976,      0.5986,      0.5996,\n",
       "            0.6006,      0.6016,      0.6026,      0.6036,      0.6046,     0.60561,     0.60661,     0.60761,     0.60861,     0.60961,     0.61061,     0.61161,     0.61261,     0.61361,     0.61461,     0.61562,     0.61662,     0.61762,     0.61862,     0.61962,     0.62062,     0.62162,     0.62262,     0.62362,\n",
       "           0.62462,     0.62563,     0.62663,     0.62763,     0.62863,     0.62963,     0.63063,     0.63163,     0.63263,     0.63363,     0.63463,     0.63564,     0.63664,     0.63764,     0.63864,     0.63964,     0.64064,     0.64164,     0.64264,     0.64364,     0.64464,     0.64565,     0.64665,     0.64765,\n",
       "           0.64865,     0.64965,     0.65065,     0.65165,     0.65265,     0.65365,     0.65465,     0.65566,     0.65666,     0.65766,     0.65866,     0.65966,     0.66066,     0.66166,     0.66266,     0.66366,     0.66466,     0.66567,     0.66667,     0.66767,     0.66867,     0.66967,     0.67067,     0.67167,\n",
       "           0.67267,     0.67367,     0.67467,     0.67568,     0.67668,     0.67768,     0.67868,     0.67968,     0.68068,     0.68168,     0.68268,     0.68368,     0.68468,     0.68569,     0.68669,     0.68769,     0.68869,     0.68969,     0.69069,     0.69169,     0.69269,     0.69369,     0.69469,      0.6957,\n",
       "            0.6967,      0.6977,      0.6987,      0.6997,      0.7007,      0.7017,      0.7027,      0.7037,      0.7047,     0.70571,     0.70671,     0.70771,     0.70871,     0.70971,     0.71071,     0.71171,     0.71271,     0.71371,     0.71471,     0.71572,     0.71672,     0.71772,     0.71872,     0.71972,\n",
       "           0.72072,     0.72172,     0.72272,     0.72372,     0.72472,     0.72573,     0.72673,     0.72773,     0.72873,     0.72973,     0.73073,     0.73173,     0.73273,     0.73373,     0.73473,     0.73574,     0.73674,     0.73774,     0.73874,     0.73974,     0.74074,     0.74174,     0.74274,     0.74374,\n",
       "           0.74474,     0.74575,     0.74675,     0.74775,     0.74875,     0.74975,     0.75075,     0.75175,     0.75275,     0.75375,     0.75475,     0.75576,     0.75676,     0.75776,     0.75876,     0.75976,     0.76076,     0.76176,     0.76276,     0.76376,     0.76476,     0.76577,     0.76677,     0.76777,\n",
       "           0.76877,     0.76977,     0.77077,     0.77177,     0.77277,     0.77377,     0.77477,     0.77578,     0.77678,     0.77778,     0.77878,     0.77978,     0.78078,     0.78178,     0.78278,     0.78378,     0.78478,     0.78579,     0.78679,     0.78779,     0.78879,     0.78979,     0.79079,     0.79179,\n",
       "           0.79279,     0.79379,     0.79479,      0.7958,      0.7968,      0.7978,      0.7988,      0.7998,      0.8008,      0.8018,      0.8028,      0.8038,      0.8048,     0.80581,     0.80681,     0.80781,     0.80881,     0.80981,     0.81081,     0.81181,     0.81281,     0.81381,     0.81481,     0.81582,\n",
       "           0.81682,     0.81782,     0.81882,     0.81982,     0.82082,     0.82182,     0.82282,     0.82382,     0.82482,     0.82583,     0.82683,     0.82783,     0.82883,     0.82983,     0.83083,     0.83183,     0.83283,     0.83383,     0.83483,     0.83584,     0.83684,     0.83784,     0.83884,     0.83984,\n",
       "           0.84084,     0.84184,     0.84284,     0.84384,     0.84484,     0.84585,     0.84685,     0.84785,     0.84885,     0.84985,     0.85085,     0.85185,     0.85285,     0.85385,     0.85485,     0.85586,     0.85686,     0.85786,     0.85886,     0.85986,     0.86086,     0.86186,     0.86286,     0.86386,\n",
       "           0.86486,     0.86587,     0.86687,     0.86787,     0.86887,     0.86987,     0.87087,     0.87187,     0.87287,     0.87387,     0.87487,     0.87588,     0.87688,     0.87788,     0.87888,     0.87988,     0.88088,     0.88188,     0.88288,     0.88388,     0.88488,     0.88589,     0.88689,     0.88789,\n",
       "           0.88889,     0.88989,     0.89089,     0.89189,     0.89289,     0.89389,     0.89489,      0.8959,      0.8969,      0.8979,      0.8989,      0.8999,      0.9009,      0.9019,      0.9029,      0.9039,      0.9049,     0.90591,     0.90691,     0.90791,     0.90891,     0.90991,     0.91091,     0.91191,\n",
       "           0.91291,     0.91391,     0.91491,     0.91592,     0.91692,     0.91792,     0.91892,     0.91992,     0.92092,     0.92192,     0.92292,     0.92392,     0.92492,     0.92593,     0.92693,     0.92793,     0.92893,     0.92993,     0.93093,     0.93193,     0.93293,     0.93393,     0.93493,     0.93594,\n",
       "           0.93694,     0.93794,     0.93894,     0.93994,     0.94094,     0.94194,     0.94294,     0.94394,     0.94494,     0.94595,     0.94695,     0.94795,     0.94895,     0.94995,     0.95095,     0.95195,     0.95295,     0.95395,     0.95495,     0.95596,     0.95696,     0.95796,     0.95896,     0.95996,\n",
       "           0.96096,     0.96196,     0.96296,     0.96396,     0.96496,     0.96597,     0.96697,     0.96797,     0.96897,     0.96997,     0.97097,     0.97197,     0.97297,     0.97397,     0.97497,     0.97598,     0.97698,     0.97798,     0.97898,     0.97998,     0.98098,     0.98198,     0.98298,     0.98398,\n",
       "           0.98498,     0.98599,     0.98699,     0.98799,     0.98899,     0.98999,     0.99099,     0.99199,     0.99299,     0.99399,     0.99499,       0.996,       0.997,       0.998,       0.999,           1]), array([[   0.036919,    0.036952,    0.055988,     0.07129,     0.08155,    0.093382,     0.10283,     0.11079,     0.11858,     0.12693,     0.13318,     0.14079,     0.14758,     0.15499,     0.16073,     0.16706,     0.16986,     0.17507,     0.18039,     0.18726,     0.19315,     0.19598,      0.2002,\n",
       "            0.21005,     0.21762,     0.22242,     0.22767,     0.23147,     0.23515,     0.24052,     0.24517,      0.2485,     0.25285,     0.25903,     0.26282,     0.26685,     0.27162,     0.27325,     0.27524,     0.27946,     0.28447,     0.28918,     0.29323,     0.29962,      0.3048,     0.30859,\n",
       "            0.31023,     0.31322,     0.31541,     0.31659,      0.3206,     0.32319,     0.32257,     0.32608,     0.32624,     0.32983,     0.33485,     0.33965,     0.34518,     0.34879,      0.3471,      0.3497,     0.35151,     0.34941,     0.35487,     0.35789,     0.35721,     0.35769,     0.36342,\n",
       "             0.3643,     0.36636,     0.36963,     0.37266,     0.37448,      0.3777,     0.37882,     0.38076,      0.3816,     0.38397,     0.38571,     0.38723,      0.3913,     0.38663,     0.38673,     0.39102,     0.39716,     0.39786,     0.40018,     0.40362,     0.40756,     0.40975,     0.41172,\n",
       "            0.41191,     0.41101,     0.41446,     0.41512,     0.41548,     0.41581,     0.41613,     0.42021,     0.42338,     0.42526,     0.42849,     0.42925,      0.4274,     0.42875,      0.4306,     0.43521,     0.43776,      0.4387,     0.44299,     0.44719,     0.44958,     0.45324,     0.45439,\n",
       "            0.45636,     0.45727,     0.45839,      0.4598,     0.46149,     0.46517,     0.46801,     0.46941,     0.47114,     0.47202,      0.4745,     0.47812,     0.47901,     0.48123,     0.48198,     0.48428,     0.48552,     0.48664,     0.48928,     0.49019,     0.49113,     0.49437,     0.49692,\n",
       "            0.49419,      0.4953,     0.49882,     0.50188,     0.50391,     0.50653,     0.50762,     0.50924,      0.5052,     0.50737,     0.50886,     0.50774,     0.50502,     0.50573,     0.50644,     0.50808,     0.50895,     0.50624,     0.50058,     0.50086,     0.50021,     0.50247,     0.50493,\n",
       "              0.507,     0.50758,     0.50817,     0.50608,     0.50495,     0.50748,     0.50911,     0.51272,     0.51674,     0.51264,      0.5138,     0.51669,     0.51776,     0.51981,     0.52018,     0.52054,     0.52091,     0.52128,     0.52274,     0.52095,     0.51892,     0.51694,     0.51456,\n",
       "             0.5149,     0.51523,     0.51556,      0.5159,     0.51623,     0.51836,     0.52215,     0.52235,     0.52256,     0.52276,     0.52296,     0.52316,     0.52336,     0.52356,     0.52376,     0.52396,     0.52986,     0.53205,     0.53248,     0.53291,     0.53333,     0.53376,     0.53419,\n",
       "            0.53462,     0.53504,     0.53547,     0.53518,     0.53066,     0.53224,     0.53281,     0.53332,     0.53383,     0.53434,     0.53673,     0.53711,     0.53749,     0.53786,     0.53824,     0.53414,      0.5299,     0.53196,     0.53275,     0.53134,     0.52992,      0.5285,     0.52645,\n",
       "            0.52313,     0.52193,     0.52227,      0.5226,     0.52294,     0.52327,      0.5236,     0.52548,     0.52434,      0.5232,     0.52206,     0.52092,     0.51909,     0.51439,     0.51504,     0.51609,     0.51706,     0.51802,     0.52023,     0.52297,     0.52414,     0.52483,     0.52522,\n",
       "            0.52561,       0.526,     0.52639,     0.52682,     0.52783,     0.52884,     0.52661,     0.52409,     0.52407,     0.52533,     0.52585,     0.52637,     0.52689,     0.52867,     0.52684,     0.52501,     0.52322,     0.52388,     0.52453,     0.52519,      0.5277,     0.52817,     0.52863,\n",
       "             0.5291,     0.52957,     0.53223,     0.53327,     0.52932,     0.53296,     0.53632,     0.53763,     0.53794,     0.53826,     0.53857,     0.53888,      0.5392,     0.53951,     0.53982,     0.53354,     0.53429,     0.53504,     0.53596,      0.5382,     0.53874,     0.53929,     0.53984,\n",
       "            0.54038,     0.54233,     0.54355,     0.54431,     0.54507,     0.54615,     0.54755,     0.54708,     0.54588,     0.54467,     0.54346,     0.54226,     0.54175,     0.54359,     0.54229,     0.54098,     0.53968,     0.53837,     0.53706,     0.53602,     0.53498,     0.53394,      0.5329,\n",
       "            0.53186,     0.53082,      0.5291,     0.52646,     0.52383,     0.52465,     0.52797,     0.52887,     0.52946,     0.53005,     0.53064,     0.53129,     0.53197,     0.53265,     0.53332,     0.53367,     0.53401,     0.53435,     0.53468,     0.53502,     0.53536,     0.53569,     0.53632,\n",
       "            0.53731,     0.53829,     0.53886,     0.53933,     0.53981,     0.54029,     0.54076,      0.5428,     0.54696,     0.54826,     0.54929,     0.54997,     0.55064,     0.55131,     0.55129,     0.55011,     0.54894,     0.54776,     0.54658,      0.5454,     0.54476,     0.54548,      0.5462,\n",
       "            0.54692,     0.54674,     0.54573,     0.54472,     0.54371,     0.54269,     0.54168,     0.54067,     0.53736,     0.53441,     0.53219,     0.52814,     0.52849,     0.52909,     0.52969,     0.53028,      0.5342,     0.53464,      0.5321,     0.52956,     0.52856,     0.52867,     0.52878,\n",
       "            0.52889,       0.529,      0.5291,     0.52921,     0.52932,     0.52943,     0.52954,     0.52965,     0.52975,     0.52986,     0.52997,     0.53008,     0.53018,     0.53029,      0.5304,     0.53051,     0.53062,     0.53072,     0.53083,     0.53094,     0.53104,     0.53115,     0.53109,\n",
       "            0.52896,     0.52683,     0.52469,     0.51338,     0.50808,     0.50953,     0.51069,     0.51094,     0.51118,     0.51143,     0.51167,     0.51192,     0.51216,      0.5124,     0.51264,     0.51289,     0.51313,     0.51337,     0.51638,     0.51675,     0.51712,     0.51749,     0.51786,\n",
       "            0.51823,      0.5186,     0.51786,     0.51103,     0.51251,     0.51351,     0.51281,     0.51211,     0.51141,     0.51071,     0.51001,     0.50931,      0.5086,      0.5079,      0.5072,     0.50649,     0.50579,     0.50582,     0.50637,     0.50693,     0.50747,     0.50802,     0.50842,\n",
       "            0.50868,     0.50894,     0.50921,     0.50947,     0.50973,     0.50999,     0.51024,      0.5105,     0.51076,     0.51102,     0.51188,     0.51309,     0.51227,     0.50589,     0.50397,     0.50225,     0.50052,     0.49879,     0.49794,     0.50098,     0.50217,     0.49997,     0.49393,\n",
       "            0.49205,     0.49017,     0.48828,     0.48639,     0.48577,     0.48617,     0.48658,     0.48697,     0.48737,     0.48777,     0.48816,     0.48524,     0.47963,     0.48022,     0.48082,     0.48141,       0.482,     0.48095,     0.47743,     0.47388,     0.46747,     0.46393,     0.46327,\n",
       "             0.4626,     0.46194,     0.46128,     0.46061,     0.45995,     0.45928,     0.45862,     0.45795,     0.45729,     0.45662,     0.45595,     0.45529,     0.45438,     0.45337,     0.45236,     0.45136,     0.45035,     0.44934,     0.44832,     0.44731,      0.4463,     0.44249,     0.43596,\n",
       "            0.43145,     0.42691,     0.42863,     0.42907,     0.42838,      0.4277,     0.42701,     0.42632,     0.42563,     0.42494,     0.42425,     0.42356,     0.42286,     0.42217,     0.42148,     0.42079,     0.42009,     0.41911,     0.41784,     0.41657,     0.41529,     0.41402,     0.41274,\n",
       "            0.41147,     0.41019,     0.40478,     0.39979,     0.39899,     0.39818,     0.39737,     0.39657,     0.39576,     0.39495,     0.39414,     0.39333,     0.39252,     0.39171,     0.39089,     0.39008,     0.38924,     0.38839,     0.38755,      0.3867,     0.38585,       0.385,     0.38415,\n",
       "             0.3833,     0.38245,      0.3816,     0.38075,      0.3799,     0.37843,     0.37683,     0.37522,     0.37362,     0.37201,      0.3704,     0.36975,     0.37054,     0.37132,     0.37132,     0.37008,     0.36885,     0.36761,     0.36638,     0.36514,      0.3639,     0.36265,     0.36141,\n",
       "            0.36089,     0.36044,     0.35999,     0.35954,     0.35909,     0.35865,      0.3582,     0.35775,      0.3573,     0.35685,      0.3564,     0.35595,      0.3555,     0.35505,      0.3546,     0.35415,      0.3537,     0.35325,      0.3528,     0.35235,      0.3519,     0.35144,     0.35099,\n",
       "            0.34962,     0.34535,     0.34106,     0.34008,     0.34037,     0.34065,     0.34094,     0.34122,      0.3415,     0.34177,     0.34205,     0.34269,     0.34341,     0.34412,     0.34332,     0.34168,     0.34003,     0.33838,     0.33673,     0.33508,     0.33342,     0.33375,     0.33418,\n",
       "            0.33461,     0.33503,     0.33545,     0.33538,     0.33512,     0.33485,     0.33458,     0.33432,     0.33405,     0.33379,     0.33352,     0.33325,     0.33299,     0.33272,     0.33246,     0.33219,     0.33192,     0.33166,     0.33139,     0.33112,     0.33086,     0.33059,     0.33032,\n",
       "            0.33006,     0.32979,     0.32952,     0.32925,     0.32899,     0.32872,     0.32845,     0.32818,     0.32792,     0.32765,     0.32738,     0.32711,     0.32685,     0.32658,     0.32631,     0.32604,     0.32577,      0.3255,     0.32524,     0.32497,      0.3247,     0.32443,     0.32128,\n",
       "            0.31623,     0.31171,     0.30821,     0.30469,      0.3013,     0.30006,     0.29883,     0.29759,     0.29635,     0.29511,     0.29386,     0.29262,     0.29137,     0.29012,     0.28347,     0.27505,     0.26866,       0.266,     0.26649,     0.26697,     0.26744,     0.26589,      0.2632,\n",
       "             0.2605,     0.25779,     0.25501,     0.25153,     0.24804,     0.24453,     0.24143,     0.23869,     0.23595,     0.23319,     0.23043,     0.22842,     0.22647,     0.22452,     0.22256,      0.2206,     0.21864,     0.21542,     0.21003,      0.2046,     0.19747,     0.19099,     0.18963,\n",
       "            0.18826,     0.18689,     0.18551,     0.18414,     0.18276,     0.18138,        0.18,     0.17861,     0.17049,     0.16291,     0.16099,     0.15906,     0.15712,     0.15518,     0.15324,     0.15129,     0.14952,     0.14789,     0.14626,     0.14462,     0.14299,     0.14135,     0.13971,\n",
       "            0.13806,     0.13641,     0.13518,     0.13396,     0.13274,     0.13152,      0.1303,     0.12907,     0.12785,     0.12662,     0.12539,     0.12416,     0.12292,     0.12199,      0.1216,      0.1212,     0.12081,     0.12041,     0.12001,     0.11962,     0.11922,     0.11882,     0.11843,\n",
       "            0.11803,     0.11763,     0.11724,     0.11684,     0.11644,     0.11604,     0.11564,     0.11525,     0.11485,     0.11445,     0.11405,     0.11365,     0.11325,     0.11285,     0.11245,     0.11205,     0.11165,     0.11125,     0.11085,     0.11045,     0.11005,     0.10965,     0.10925,\n",
       "            0.10885,     0.10845,     0.10805,     0.10763,     0.10707,      0.1065,     0.10594,     0.10538,     0.10482,     0.10426,      0.1037,     0.10313,     0.10257,     0.10201,     0.10144,     0.10088,     0.10032,    0.099751,    0.099186,    0.098621,    0.098055,    0.097489,    0.096923,\n",
       "           0.096357,     0.09579,    0.095222,    0.094655,    0.094087,    0.093518,     0.09287,    0.091688,    0.090504,    0.089319,    0.088132,    0.086944,    0.085754,    0.084563,     0.08337,    0.082176,    0.080981,    0.079784,    0.078585,    0.062482,    0.061299,    0.060115,    0.058929,\n",
       "           0.057742,    0.056553,    0.055363,    0.054171,    0.052978,    0.051783,    0.050587,     0.04939,    0.048191,    0.046975,    0.045744,    0.044512,    0.043277,    0.042042,    0.040805,    0.039566,    0.038325,    0.037083,     0.03584,    0.034595,    0.033348,      0.0321,    0.030714,\n",
       "           0.029314,    0.027912,    0.026508,    0.025102,    0.023694,    0.022284,    0.020872,    0.019458,    0.018042,    0.016624,           0,           0,           0,           0,           0,           0,           0,           0,           0,           0,           0,           0,           0,\n",
       "                  0,           0,           0,           0,           0,           0,           0,           0,           0,           0,           0,           0,           0,           0,           0,           0,           0,           0,           0,           0,           0,           0,           0,\n",
       "                  0,           0,           0,           0,           0,           0,           0,           0,           0,           0,           0,           0,           0,           0,           0,           0,           0,           0,           0,           0,           0,           0,           0,\n",
       "                  0,           0,           0,           0,           0,           0,           0,           0,           0,           0,           0,           0,           0,           0,           0,           0,           0,           0,           0,           0,           0,           0,           0,\n",
       "                  0,           0,           0,           0,           0,           0,           0,           0,           0,           0,           0,           0,           0,           0,           0,           0,           0,           0,           0,           0,           0,           0,           0,\n",
       "                  0,           0,           0,           0,           0,           0,           0,           0,           0,           0,           0]]), 'Confidence', 'F1'], [array([          0,    0.001001,    0.002002,    0.003003,    0.004004,    0.005005,    0.006006,    0.007007,    0.008008,    0.009009,     0.01001,    0.011011,    0.012012,    0.013013,    0.014014,    0.015015,    0.016016,    0.017017,    0.018018,    0.019019,     0.02002,    0.021021,    0.022022,    0.023023,\n",
       "          0.024024,    0.025025,    0.026026,    0.027027,    0.028028,    0.029029,     0.03003,    0.031031,    0.032032,    0.033033,    0.034034,    0.035035,    0.036036,    0.037037,    0.038038,    0.039039,     0.04004,    0.041041,    0.042042,    0.043043,    0.044044,    0.045045,    0.046046,    0.047047,\n",
       "          0.048048,    0.049049,     0.05005,    0.051051,    0.052052,    0.053053,    0.054054,    0.055055,    0.056056,    0.057057,    0.058058,    0.059059,     0.06006,    0.061061,    0.062062,    0.063063,    0.064064,    0.065065,    0.066066,    0.067067,    0.068068,    0.069069,     0.07007,    0.071071,\n",
       "          0.072072,    0.073073,    0.074074,    0.075075,    0.076076,    0.077077,    0.078078,    0.079079,     0.08008,    0.081081,    0.082082,    0.083083,    0.084084,    0.085085,    0.086086,    0.087087,    0.088088,    0.089089,     0.09009,    0.091091,    0.092092,    0.093093,    0.094094,    0.095095,\n",
       "          0.096096,    0.097097,    0.098098,    0.099099,      0.1001,      0.1011,      0.1021,      0.1031,      0.1041,     0.10511,     0.10611,     0.10711,     0.10811,     0.10911,     0.11011,     0.11111,     0.11211,     0.11311,     0.11411,     0.11512,     0.11612,     0.11712,     0.11812,     0.11912,\n",
       "           0.12012,     0.12112,     0.12212,     0.12312,     0.12412,     0.12513,     0.12613,     0.12713,     0.12813,     0.12913,     0.13013,     0.13113,     0.13213,     0.13313,     0.13413,     0.13514,     0.13614,     0.13714,     0.13814,     0.13914,     0.14014,     0.14114,     0.14214,     0.14314,\n",
       "           0.14414,     0.14515,     0.14615,     0.14715,     0.14815,     0.14915,     0.15015,     0.15115,     0.15215,     0.15315,     0.15415,     0.15516,     0.15616,     0.15716,     0.15816,     0.15916,     0.16016,     0.16116,     0.16216,     0.16316,     0.16416,     0.16517,     0.16617,     0.16717,\n",
       "           0.16817,     0.16917,     0.17017,     0.17117,     0.17217,     0.17317,     0.17417,     0.17518,     0.17618,     0.17718,     0.17818,     0.17918,     0.18018,     0.18118,     0.18218,     0.18318,     0.18418,     0.18519,     0.18619,     0.18719,     0.18819,     0.18919,     0.19019,     0.19119,\n",
       "           0.19219,     0.19319,     0.19419,      0.1952,      0.1962,      0.1972,      0.1982,      0.1992,      0.2002,      0.2012,      0.2022,      0.2032,      0.2042,     0.20521,     0.20621,     0.20721,     0.20821,     0.20921,     0.21021,     0.21121,     0.21221,     0.21321,     0.21421,     0.21522,\n",
       "           0.21622,     0.21722,     0.21822,     0.21922,     0.22022,     0.22122,     0.22222,     0.22322,     0.22422,     0.22523,     0.22623,     0.22723,     0.22823,     0.22923,     0.23023,     0.23123,     0.23223,     0.23323,     0.23423,     0.23524,     0.23624,     0.23724,     0.23824,     0.23924,\n",
       "           0.24024,     0.24124,     0.24224,     0.24324,     0.24424,     0.24525,     0.24625,     0.24725,     0.24825,     0.24925,     0.25025,     0.25125,     0.25225,     0.25325,     0.25425,     0.25526,     0.25626,     0.25726,     0.25826,     0.25926,     0.26026,     0.26126,     0.26226,     0.26326,\n",
       "           0.26426,     0.26527,     0.26627,     0.26727,     0.26827,     0.26927,     0.27027,     0.27127,     0.27227,     0.27327,     0.27427,     0.27528,     0.27628,     0.27728,     0.27828,     0.27928,     0.28028,     0.28128,     0.28228,     0.28328,     0.28428,     0.28529,     0.28629,     0.28729,\n",
       "           0.28829,     0.28929,     0.29029,     0.29129,     0.29229,     0.29329,     0.29429,      0.2953,      0.2963,      0.2973,      0.2983,      0.2993,      0.3003,      0.3013,      0.3023,      0.3033,      0.3043,     0.30531,     0.30631,     0.30731,     0.30831,     0.30931,     0.31031,     0.31131,\n",
       "           0.31231,     0.31331,     0.31431,     0.31532,     0.31632,     0.31732,     0.31832,     0.31932,     0.32032,     0.32132,     0.32232,     0.32332,     0.32432,     0.32533,     0.32633,     0.32733,     0.32833,     0.32933,     0.33033,     0.33133,     0.33233,     0.33333,     0.33433,     0.33534,\n",
       "           0.33634,     0.33734,     0.33834,     0.33934,     0.34034,     0.34134,     0.34234,     0.34334,     0.34434,     0.34535,     0.34635,     0.34735,     0.34835,     0.34935,     0.35035,     0.35135,     0.35235,     0.35335,     0.35435,     0.35536,     0.35636,     0.35736,     0.35836,     0.35936,\n",
       "           0.36036,     0.36136,     0.36236,     0.36336,     0.36436,     0.36537,     0.36637,     0.36737,     0.36837,     0.36937,     0.37037,     0.37137,     0.37237,     0.37337,     0.37437,     0.37538,     0.37638,     0.37738,     0.37838,     0.37938,     0.38038,     0.38138,     0.38238,     0.38338,\n",
       "           0.38438,     0.38539,     0.38639,     0.38739,     0.38839,     0.38939,     0.39039,     0.39139,     0.39239,     0.39339,     0.39439,      0.3954,      0.3964,      0.3974,      0.3984,      0.3994,      0.4004,      0.4014,      0.4024,      0.4034,      0.4044,     0.40541,     0.40641,     0.40741,\n",
       "           0.40841,     0.40941,     0.41041,     0.41141,     0.41241,     0.41341,     0.41441,     0.41542,     0.41642,     0.41742,     0.41842,     0.41942,     0.42042,     0.42142,     0.42242,     0.42342,     0.42442,     0.42543,     0.42643,     0.42743,     0.42843,     0.42943,     0.43043,     0.43143,\n",
       "           0.43243,     0.43343,     0.43443,     0.43544,     0.43644,     0.43744,     0.43844,     0.43944,     0.44044,     0.44144,     0.44244,     0.44344,     0.44444,     0.44545,     0.44645,     0.44745,     0.44845,     0.44945,     0.45045,     0.45145,     0.45245,     0.45345,     0.45445,     0.45546,\n",
       "           0.45646,     0.45746,     0.45846,     0.45946,     0.46046,     0.46146,     0.46246,     0.46346,     0.46446,     0.46547,     0.46647,     0.46747,     0.46847,     0.46947,     0.47047,     0.47147,     0.47247,     0.47347,     0.47447,     0.47548,     0.47648,     0.47748,     0.47848,     0.47948,\n",
       "           0.48048,     0.48148,     0.48248,     0.48348,     0.48448,     0.48549,     0.48649,     0.48749,     0.48849,     0.48949,     0.49049,     0.49149,     0.49249,     0.49349,     0.49449,      0.4955,      0.4965,      0.4975,      0.4985,      0.4995,      0.5005,      0.5015,      0.5025,      0.5035,\n",
       "            0.5045,     0.50551,     0.50651,     0.50751,     0.50851,     0.50951,     0.51051,     0.51151,     0.51251,     0.51351,     0.51451,     0.51552,     0.51652,     0.51752,     0.51852,     0.51952,     0.52052,     0.52152,     0.52252,     0.52352,     0.52452,     0.52553,     0.52653,     0.52753,\n",
       "           0.52853,     0.52953,     0.53053,     0.53153,     0.53253,     0.53353,     0.53453,     0.53554,     0.53654,     0.53754,     0.53854,     0.53954,     0.54054,     0.54154,     0.54254,     0.54354,     0.54454,     0.54555,     0.54655,     0.54755,     0.54855,     0.54955,     0.55055,     0.55155,\n",
       "           0.55255,     0.55355,     0.55455,     0.55556,     0.55656,     0.55756,     0.55856,     0.55956,     0.56056,     0.56156,     0.56256,     0.56356,     0.56456,     0.56557,     0.56657,     0.56757,     0.56857,     0.56957,     0.57057,     0.57157,     0.57257,     0.57357,     0.57457,     0.57558,\n",
       "           0.57658,     0.57758,     0.57858,     0.57958,     0.58058,     0.58158,     0.58258,     0.58358,     0.58458,     0.58559,     0.58659,     0.58759,     0.58859,     0.58959,     0.59059,     0.59159,     0.59259,     0.59359,     0.59459,      0.5956,      0.5966,      0.5976,      0.5986,      0.5996,\n",
       "            0.6006,      0.6016,      0.6026,      0.6036,      0.6046,     0.60561,     0.60661,     0.60761,     0.60861,     0.60961,     0.61061,     0.61161,     0.61261,     0.61361,     0.61461,     0.61562,     0.61662,     0.61762,     0.61862,     0.61962,     0.62062,     0.62162,     0.62262,     0.62362,\n",
       "           0.62462,     0.62563,     0.62663,     0.62763,     0.62863,     0.62963,     0.63063,     0.63163,     0.63263,     0.63363,     0.63463,     0.63564,     0.63664,     0.63764,     0.63864,     0.63964,     0.64064,     0.64164,     0.64264,     0.64364,     0.64464,     0.64565,     0.64665,     0.64765,\n",
       "           0.64865,     0.64965,     0.65065,     0.65165,     0.65265,     0.65365,     0.65465,     0.65566,     0.65666,     0.65766,     0.65866,     0.65966,     0.66066,     0.66166,     0.66266,     0.66366,     0.66466,     0.66567,     0.66667,     0.66767,     0.66867,     0.66967,     0.67067,     0.67167,\n",
       "           0.67267,     0.67367,     0.67467,     0.67568,     0.67668,     0.67768,     0.67868,     0.67968,     0.68068,     0.68168,     0.68268,     0.68368,     0.68468,     0.68569,     0.68669,     0.68769,     0.68869,     0.68969,     0.69069,     0.69169,     0.69269,     0.69369,     0.69469,      0.6957,\n",
       "            0.6967,      0.6977,      0.6987,      0.6997,      0.7007,      0.7017,      0.7027,      0.7037,      0.7047,     0.70571,     0.70671,     0.70771,     0.70871,     0.70971,     0.71071,     0.71171,     0.71271,     0.71371,     0.71471,     0.71572,     0.71672,     0.71772,     0.71872,     0.71972,\n",
       "           0.72072,     0.72172,     0.72272,     0.72372,     0.72472,     0.72573,     0.72673,     0.72773,     0.72873,     0.72973,     0.73073,     0.73173,     0.73273,     0.73373,     0.73473,     0.73574,     0.73674,     0.73774,     0.73874,     0.73974,     0.74074,     0.74174,     0.74274,     0.74374,\n",
       "           0.74474,     0.74575,     0.74675,     0.74775,     0.74875,     0.74975,     0.75075,     0.75175,     0.75275,     0.75375,     0.75475,     0.75576,     0.75676,     0.75776,     0.75876,     0.75976,     0.76076,     0.76176,     0.76276,     0.76376,     0.76476,     0.76577,     0.76677,     0.76777,\n",
       "           0.76877,     0.76977,     0.77077,     0.77177,     0.77277,     0.77377,     0.77477,     0.77578,     0.77678,     0.77778,     0.77878,     0.77978,     0.78078,     0.78178,     0.78278,     0.78378,     0.78478,     0.78579,     0.78679,     0.78779,     0.78879,     0.78979,     0.79079,     0.79179,\n",
       "           0.79279,     0.79379,     0.79479,      0.7958,      0.7968,      0.7978,      0.7988,      0.7998,      0.8008,      0.8018,      0.8028,      0.8038,      0.8048,     0.80581,     0.80681,     0.80781,     0.80881,     0.80981,     0.81081,     0.81181,     0.81281,     0.81381,     0.81481,     0.81582,\n",
       "           0.81682,     0.81782,     0.81882,     0.81982,     0.82082,     0.82182,     0.82282,     0.82382,     0.82482,     0.82583,     0.82683,     0.82783,     0.82883,     0.82983,     0.83083,     0.83183,     0.83283,     0.83383,     0.83483,     0.83584,     0.83684,     0.83784,     0.83884,     0.83984,\n",
       "           0.84084,     0.84184,     0.84284,     0.84384,     0.84484,     0.84585,     0.84685,     0.84785,     0.84885,     0.84985,     0.85085,     0.85185,     0.85285,     0.85385,     0.85485,     0.85586,     0.85686,     0.85786,     0.85886,     0.85986,     0.86086,     0.86186,     0.86286,     0.86386,\n",
       "           0.86486,     0.86587,     0.86687,     0.86787,     0.86887,     0.86987,     0.87087,     0.87187,     0.87287,     0.87387,     0.87487,     0.87588,     0.87688,     0.87788,     0.87888,     0.87988,     0.88088,     0.88188,     0.88288,     0.88388,     0.88488,     0.88589,     0.88689,     0.88789,\n",
       "           0.88889,     0.88989,     0.89089,     0.89189,     0.89289,     0.89389,     0.89489,      0.8959,      0.8969,      0.8979,      0.8989,      0.8999,      0.9009,      0.9019,      0.9029,      0.9039,      0.9049,     0.90591,     0.90691,     0.90791,     0.90891,     0.90991,     0.91091,     0.91191,\n",
       "           0.91291,     0.91391,     0.91491,     0.91592,     0.91692,     0.91792,     0.91892,     0.91992,     0.92092,     0.92192,     0.92292,     0.92392,     0.92492,     0.92593,     0.92693,     0.92793,     0.92893,     0.92993,     0.93093,     0.93193,     0.93293,     0.93393,     0.93493,     0.93594,\n",
       "           0.93694,     0.93794,     0.93894,     0.93994,     0.94094,     0.94194,     0.94294,     0.94394,     0.94494,     0.94595,     0.94695,     0.94795,     0.94895,     0.94995,     0.95095,     0.95195,     0.95295,     0.95395,     0.95495,     0.95596,     0.95696,     0.95796,     0.95896,     0.95996,\n",
       "           0.96096,     0.96196,     0.96296,     0.96396,     0.96496,     0.96597,     0.96697,     0.96797,     0.96897,     0.96997,     0.97097,     0.97197,     0.97297,     0.97397,     0.97497,     0.97598,     0.97698,     0.97798,     0.97898,     0.97998,     0.98098,     0.98198,     0.98298,     0.98398,\n",
       "           0.98498,     0.98599,     0.98699,     0.98799,     0.98899,     0.98999,     0.99099,     0.99199,     0.99299,     0.99399,     0.99499,       0.996,       0.997,       0.998,       0.999,           1]), array([[   0.018849,    0.018866,    0.028907,    0.037168,    0.042841,     0.04942,    0.054777,    0.059404,    0.063953,    0.068838,    0.072661,    0.077293,    0.081408,     0.08594,    0.089484,    0.093425,    0.095303,    0.098592,     0.10198,     0.10655,     0.11038,      0.1124,     0.11519,\n",
       "            0.12176,     0.12687,     0.13015,     0.13376,     0.13639,     0.13895,     0.14272,     0.14601,     0.14838,     0.15149,     0.15594,      0.1587,     0.16165,     0.16516,     0.16637,     0.16784,       0.171,     0.17476,     0.17833,     0.18142,     0.18633,     0.19036,     0.19333,\n",
       "            0.19515,     0.19753,     0.19977,     0.20079,     0.20403,     0.20641,     0.20625,     0.20912,     0.20991,      0.2129,      0.2171,     0.22115,     0.22586,     0.22897,     0.22831,     0.23056,     0.23215,     0.23115,     0.23595,     0.23863,     0.23856,     0.23937,     0.24453,\n",
       "            0.24533,      0.2472,     0.25019,     0.25297,     0.25465,     0.25763,     0.25868,      0.2605,     0.26128,     0.26351,     0.26631,     0.26776,     0.27167,     0.26964,     0.27103,     0.27526,     0.28139,     0.28209,     0.28443,     0.28792,     0.29195,      0.2942,     0.29623,\n",
       "            0.29725,     0.29709,      0.3007,      0.3014,     0.30178,     0.30212,     0.30246,     0.30679,     0.31019,     0.31221,      0.3157,     0.31653,     0.31636,     0.31784,     0.31988,     0.32499,     0.32784,      0.3289,     0.33375,     0.33854,     0.34129,     0.34552,     0.34687,\n",
       "            0.34917,     0.35023,     0.35155,     0.35321,      0.3552,     0.35958,     0.36299,     0.36468,     0.36677,     0.36784,     0.37085,      0.3753,      0.3764,     0.37915,     0.38009,     0.38295,      0.3845,      0.3859,     0.38924,     0.39039,     0.39158,     0.39572,     0.39901,\n",
       "            0.39849,     0.39992,     0.40454,     0.40858,     0.41128,     0.41478,     0.41624,     0.41842,     0.41634,      0.4193,     0.42134,     0.42121,     0.41958,     0.42056,     0.42154,     0.42383,     0.42568,     0.42393,     0.42071,     0.42298,     0.42404,     0.42729,     0.43086,\n",
       "            0.43388,     0.43474,     0.43559,     0.43449,     0.43504,     0.43882,     0.44125,     0.44671,     0.45351,     0.45085,     0.45297,     0.45749,     0.45916,      0.4624,     0.46298,     0.46356,     0.46414,     0.46472,     0.46705,     0.46643,     0.46602,     0.46564,     0.46417,\n",
       "            0.46471,     0.46525,      0.4658,     0.46634,     0.46688,     0.47039,     0.47667,       0.477,     0.47734,     0.47767,     0.47801,     0.47835,     0.47868,     0.47902,     0.47935,     0.47969,     0.48966,     0.49342,     0.49416,      0.4949,     0.49564,     0.49638,     0.49712,\n",
       "            0.49786,      0.4986,     0.49934,     0.49957,     0.49707,     0.49985,     0.50086,     0.50177,     0.50267,     0.50358,     0.50784,     0.50851,     0.50919,     0.50987,     0.51055,     0.50975,     0.50879,      0.5126,     0.51478,     0.51387,     0.51296,     0.51205,     0.51073,\n",
       "            0.50859,     0.50806,      0.5087,     0.50933,     0.50997,      0.5106,     0.51123,     0.51535,     0.51462,     0.51388,     0.51314,     0.51241,     0.51122,     0.50815,     0.50986,     0.51193,     0.51383,     0.51573,     0.52013,     0.52565,     0.52801,     0.52941,     0.53021,\n",
       "              0.531,      0.5318,     0.53259,     0.53348,     0.53556,     0.53764,     0.53633,     0.53471,      0.5365,     0.53915,     0.54025,     0.54136,     0.54246,     0.54735,     0.54618,     0.54501,     0.54388,     0.54531,     0.54674,     0.54816,     0.55365,     0.55469,     0.55572,\n",
       "            0.55675,     0.55779,     0.56373,     0.56804,     0.56556,     0.57596,     0.58387,     0.58697,     0.58772,     0.58847,     0.58922,     0.58997,     0.59073,     0.59148,     0.59223,     0.58873,     0.59056,      0.5924,     0.59466,      0.6002,     0.60156,     0.60293,     0.60429,\n",
       "            0.60566,     0.61057,     0.61368,     0.61562,     0.61757,     0.62034,     0.62397,     0.62449,     0.62377,     0.62306,     0.62234,     0.62163,     0.62229,     0.62755,     0.62677,       0.626,     0.62522,     0.62445,     0.62367,     0.62304,     0.62242,     0.62179,     0.62117,\n",
       "            0.62054,     0.61992,     0.61887,     0.61727,     0.61567,     0.61895,     0.62826,     0.63083,     0.63251,      0.6342,     0.63588,     0.63776,     0.63972,     0.64168,     0.64364,     0.64465,     0.64564,     0.64664,     0.64763,     0.64862,     0.64961,      0.6506,     0.65244,\n",
       "            0.65537,     0.65831,     0.66001,     0.66144,     0.66288,     0.66432,     0.66575,     0.67196,     0.68487,     0.68895,     0.69223,     0.69437,     0.69651,     0.69866,     0.69977,     0.69914,     0.69852,      0.6979,     0.69727,     0.69665,     0.69687,     0.69925,     0.70162,\n",
       "              0.704,     0.70485,     0.70432,     0.70378,     0.70325,     0.70272,     0.70218,     0.70165,     0.69988,     0.70338,     0.70498,     0.70282,     0.70473,     0.70686,       0.709,     0.71114,     0.72542,     0.73167,     0.73039,      0.7291,     0.72881,     0.72923,     0.72964,\n",
       "            0.73005,     0.73047,     0.73088,      0.7313,     0.73171,     0.73212,     0.73254,     0.73295,     0.73337,     0.73378,     0.73419,     0.73461,     0.73502,     0.73544,     0.73585,     0.73626,     0.73668,     0.73709,     0.73751,     0.73792,     0.73833,     0.73875,     0.73905,\n",
       "            0.73799,     0.73692,     0.73586,     0.73009,     0.72784,     0.73383,     0.73869,     0.73972,     0.74075,     0.74177,      0.7428,     0.74383,     0.74486,     0.74588,     0.74691,     0.74794,     0.74897,     0.74999,     0.76299,     0.76462,     0.76625,     0.76788,     0.76952,\n",
       "            0.77115,     0.77278,      0.7737,      0.7712,     0.77798,     0.78327,     0.78295,     0.78263,     0.78232,       0.782,     0.78169,     0.78137,     0.78106,     0.78074,     0.78042,     0.78011,     0.77979,     0.78121,     0.78386,     0.78651,     0.78916,     0.79181,     0.79376,\n",
       "            0.79504,     0.79631,     0.79759,     0.79887,     0.80015,     0.80143,     0.80271,     0.80399,     0.80527,     0.80654,     0.81086,     0.81696,     0.82077,     0.81829,     0.81752,     0.81683,     0.81615,     0.81546,     0.81895,     0.83564,     0.84229,     0.84514,     0.84302,\n",
       "            0.84234,     0.84166,     0.84098,      0.8403,     0.84134,     0.84376,     0.84618,     0.84859,     0.85101,     0.85343,     0.85585,     0.85609,     0.85476,     0.85858,      0.8624,     0.86622,     0.87004,     0.87191,     0.87081,     0.86972,     0.86768,     0.86655,     0.86633,\n",
       "            0.86611,     0.86589,     0.86567,     0.86545,     0.86523,     0.86501,      0.8648,     0.86458,     0.86436,     0.86414,     0.86392,      0.8637,     0.86339,     0.86305,      0.8627,     0.86236,     0.86202,     0.86167,     0.86133,     0.86098,     0.86064,      0.8593,       0.857,\n",
       "            0.85534,     0.85369,     0.86828,     0.87487,     0.87465,     0.87442,     0.87419,     0.87396,     0.87373,      0.8735,     0.87328,     0.87305,     0.87282,     0.87259,     0.87236,     0.87213,     0.87191,     0.87157,     0.87113,      0.8707,     0.87026,     0.86982,     0.86938,\n",
       "            0.86894,     0.86851,     0.86657,     0.86479,     0.86449,     0.86418,     0.86388,     0.86358,     0.86328,     0.86298,     0.86267,     0.86237,     0.86207,     0.86177,     0.86147,     0.86116,     0.86084,     0.86051,     0.86018,     0.85985,     0.85952,     0.85918,     0.85885,\n",
       "            0.85852,     0.85819,     0.85786,     0.85753,      0.8572,      0.8566,     0.85595,      0.8553,     0.85464,     0.85399,     0.85333,     0.85637,     0.86496,     0.87355,     0.87861,     0.87817,     0.87772,     0.87727,     0.87683,     0.87638,     0.87594,     0.87549,     0.87504,\n",
       "            0.87485,     0.87468,     0.87451,     0.87433,     0.87416,     0.87399,     0.87382,     0.87365,     0.87348,     0.87331,     0.87314,     0.87297,      0.8728,     0.87263,     0.87246,     0.87229,     0.87212,     0.87195,     0.87178,     0.87161,     0.87144,     0.87127,      0.8711,\n",
       "            0.87055,     0.86885,     0.86714,      0.8694,     0.87317,     0.87694,     0.88071,     0.88449,     0.88826,     0.89203,      0.8958,     0.90468,     0.91482,     0.92495,     0.92832,     0.92792,     0.92753,     0.92713,     0.92674,     0.92634,     0.92595,     0.93237,     0.93917,\n",
       "            0.94598,     0.95279,      0.9596,     0.96151,     0.96148,     0.96144,      0.9614,     0.96137,     0.96133,     0.96129,     0.96126,     0.96122,     0.96118,     0.96115,     0.96111,     0.96107,     0.96104,       0.961,     0.96096,     0.96093,     0.96089,     0.96085,     0.96082,\n",
       "            0.96078,     0.96075,     0.96071,     0.96067,     0.96064,      0.9606,     0.96056,     0.96053,     0.96049,     0.96045,     0.96042,     0.96038,     0.96034,     0.96031,     0.96027,     0.96023,      0.9602,     0.96016,     0.96012,     0.96009,     0.96005,     0.96001,     0.95955,\n",
       "            0.95881,     0.95814,     0.95759,     0.95704,     0.95651,      0.9563,     0.95609,     0.95588,     0.95567,     0.95546,     0.95525,     0.95504,     0.95483,     0.95462,     0.95341,     0.95184,     0.95058,     0.95696,     0.96976,     0.98256,     0.99536,           1,           1,\n",
       "                  1,           1,           1,           1,           1,           1,           1,           1,           1,           1,           1,           1,           1,           1,           1,           1,           1,           1,           1,           1,           1,           1,           1,\n",
       "                  1,           1,           1,           1,           1,           1,           1,           1,           1,           1,           1,           1,           1,           1,           1,           1,           1,           1,           1,           1,           1,           1,           1,\n",
       "                  1,           1,           1,           1,           1,           1,           1,           1,           1,           1,           1,           1,           1,           1,           1,           1,           1,           1,           1,           1,           1,           1,           1,\n",
       "                  1,           1,           1,           1,           1,           1,           1,           1,           1,           1,           1,           1,           1,           1,           1,           1,           1,           1,           1,           1,           1,           1,           1,\n",
       "                  1,           1,           1,           1,           1,           1,           1,           1,           1,           1,           1,           1,           1,           1,           1,           1,           1,           1,           1,           1,           1,           1,           1,\n",
       "                  1,           1,           1,           1,           1,           1,           1,           1,           1,           1,           1,           1,           1,           1,           1,           1,           1,           1,           1,           1,           1,           1,           1,\n",
       "                  1,           1,           1,           1,           1,           1,           1,           1,           1,           1,           1,           1,           1,           1,           1,           1,           1,           1,           1,           1,           1,           1,           1,\n",
       "                  1,           1,           1,           1,           1,           1,           1,           1,           1,           1,           1,           1,           1,           1,           1,           1,           1,           1,           1,           1,           1,           1,           1,\n",
       "                  1,           1,           1,           1,           1,           1,           1,           1,           1,           1,           1,           1,           1,           1,           1,           1,           1,           1,           1,           1,           1,           1,           1,\n",
       "                  1,           1,           1,           1,           1,           1,           1,           1,           1,           1,           1,           1,           1,           1,           1,           1,           1,           1,           1,           1,           1,           1,           1,\n",
       "                  1,           1,           1,           1,           1,           1,           1,           1,           1,           1,           1,           1,           1,           1,           1,           1,           1,           1,           1,           1,           1,           1,           1,\n",
       "                  1,           1,           1,           1,           1,           1,           1,           1,           1,           1,           1,           1,           1,           1,           1,           1,           1,           1,           1,           1,           1,           1,           1,\n",
       "                  1,           1,           1,           1,           1,           1,           1,           1,           1,           1,           1]]), 'Confidence', 'Precision'], [array([          0,    0.001001,    0.002002,    0.003003,    0.004004,    0.005005,    0.006006,    0.007007,    0.008008,    0.009009,     0.01001,    0.011011,    0.012012,    0.013013,    0.014014,    0.015015,    0.016016,    0.017017,    0.018018,    0.019019,     0.02002,    0.021021,    0.022022,    0.023023,\n",
       "          0.024024,    0.025025,    0.026026,    0.027027,    0.028028,    0.029029,     0.03003,    0.031031,    0.032032,    0.033033,    0.034034,    0.035035,    0.036036,    0.037037,    0.038038,    0.039039,     0.04004,    0.041041,    0.042042,    0.043043,    0.044044,    0.045045,    0.046046,    0.047047,\n",
       "          0.048048,    0.049049,     0.05005,    0.051051,    0.052052,    0.053053,    0.054054,    0.055055,    0.056056,    0.057057,    0.058058,    0.059059,     0.06006,    0.061061,    0.062062,    0.063063,    0.064064,    0.065065,    0.066066,    0.067067,    0.068068,    0.069069,     0.07007,    0.071071,\n",
       "          0.072072,    0.073073,    0.074074,    0.075075,    0.076076,    0.077077,    0.078078,    0.079079,     0.08008,    0.081081,    0.082082,    0.083083,    0.084084,    0.085085,    0.086086,    0.087087,    0.088088,    0.089089,     0.09009,    0.091091,    0.092092,    0.093093,    0.094094,    0.095095,\n",
       "          0.096096,    0.097097,    0.098098,    0.099099,      0.1001,      0.1011,      0.1021,      0.1031,      0.1041,     0.10511,     0.10611,     0.10711,     0.10811,     0.10911,     0.11011,     0.11111,     0.11211,     0.11311,     0.11411,     0.11512,     0.11612,     0.11712,     0.11812,     0.11912,\n",
       "           0.12012,     0.12112,     0.12212,     0.12312,     0.12412,     0.12513,     0.12613,     0.12713,     0.12813,     0.12913,     0.13013,     0.13113,     0.13213,     0.13313,     0.13413,     0.13514,     0.13614,     0.13714,     0.13814,     0.13914,     0.14014,     0.14114,     0.14214,     0.14314,\n",
       "           0.14414,     0.14515,     0.14615,     0.14715,     0.14815,     0.14915,     0.15015,     0.15115,     0.15215,     0.15315,     0.15415,     0.15516,     0.15616,     0.15716,     0.15816,     0.15916,     0.16016,     0.16116,     0.16216,     0.16316,     0.16416,     0.16517,     0.16617,     0.16717,\n",
       "           0.16817,     0.16917,     0.17017,     0.17117,     0.17217,     0.17317,     0.17417,     0.17518,     0.17618,     0.17718,     0.17818,     0.17918,     0.18018,     0.18118,     0.18218,     0.18318,     0.18418,     0.18519,     0.18619,     0.18719,     0.18819,     0.18919,     0.19019,     0.19119,\n",
       "           0.19219,     0.19319,     0.19419,      0.1952,      0.1962,      0.1972,      0.1982,      0.1992,      0.2002,      0.2012,      0.2022,      0.2032,      0.2042,     0.20521,     0.20621,     0.20721,     0.20821,     0.20921,     0.21021,     0.21121,     0.21221,     0.21321,     0.21421,     0.21522,\n",
       "           0.21622,     0.21722,     0.21822,     0.21922,     0.22022,     0.22122,     0.22222,     0.22322,     0.22422,     0.22523,     0.22623,     0.22723,     0.22823,     0.22923,     0.23023,     0.23123,     0.23223,     0.23323,     0.23423,     0.23524,     0.23624,     0.23724,     0.23824,     0.23924,\n",
       "           0.24024,     0.24124,     0.24224,     0.24324,     0.24424,     0.24525,     0.24625,     0.24725,     0.24825,     0.24925,     0.25025,     0.25125,     0.25225,     0.25325,     0.25425,     0.25526,     0.25626,     0.25726,     0.25826,     0.25926,     0.26026,     0.26126,     0.26226,     0.26326,\n",
       "           0.26426,     0.26527,     0.26627,     0.26727,     0.26827,     0.26927,     0.27027,     0.27127,     0.27227,     0.27327,     0.27427,     0.27528,     0.27628,     0.27728,     0.27828,     0.27928,     0.28028,     0.28128,     0.28228,     0.28328,     0.28428,     0.28529,     0.28629,     0.28729,\n",
       "           0.28829,     0.28929,     0.29029,     0.29129,     0.29229,     0.29329,     0.29429,      0.2953,      0.2963,      0.2973,      0.2983,      0.2993,      0.3003,      0.3013,      0.3023,      0.3033,      0.3043,     0.30531,     0.30631,     0.30731,     0.30831,     0.30931,     0.31031,     0.31131,\n",
       "           0.31231,     0.31331,     0.31431,     0.31532,     0.31632,     0.31732,     0.31832,     0.31932,     0.32032,     0.32132,     0.32232,     0.32332,     0.32432,     0.32533,     0.32633,     0.32733,     0.32833,     0.32933,     0.33033,     0.33133,     0.33233,     0.33333,     0.33433,     0.33534,\n",
       "           0.33634,     0.33734,     0.33834,     0.33934,     0.34034,     0.34134,     0.34234,     0.34334,     0.34434,     0.34535,     0.34635,     0.34735,     0.34835,     0.34935,     0.35035,     0.35135,     0.35235,     0.35335,     0.35435,     0.35536,     0.35636,     0.35736,     0.35836,     0.35936,\n",
       "           0.36036,     0.36136,     0.36236,     0.36336,     0.36436,     0.36537,     0.36637,     0.36737,     0.36837,     0.36937,     0.37037,     0.37137,     0.37237,     0.37337,     0.37437,     0.37538,     0.37638,     0.37738,     0.37838,     0.37938,     0.38038,     0.38138,     0.38238,     0.38338,\n",
       "           0.38438,     0.38539,     0.38639,     0.38739,     0.38839,     0.38939,     0.39039,     0.39139,     0.39239,     0.39339,     0.39439,      0.3954,      0.3964,      0.3974,      0.3984,      0.3994,      0.4004,      0.4014,      0.4024,      0.4034,      0.4044,     0.40541,     0.40641,     0.40741,\n",
       "           0.40841,     0.40941,     0.41041,     0.41141,     0.41241,     0.41341,     0.41441,     0.41542,     0.41642,     0.41742,     0.41842,     0.41942,     0.42042,     0.42142,     0.42242,     0.42342,     0.42442,     0.42543,     0.42643,     0.42743,     0.42843,     0.42943,     0.43043,     0.43143,\n",
       "           0.43243,     0.43343,     0.43443,     0.43544,     0.43644,     0.43744,     0.43844,     0.43944,     0.44044,     0.44144,     0.44244,     0.44344,     0.44444,     0.44545,     0.44645,     0.44745,     0.44845,     0.44945,     0.45045,     0.45145,     0.45245,     0.45345,     0.45445,     0.45546,\n",
       "           0.45646,     0.45746,     0.45846,     0.45946,     0.46046,     0.46146,     0.46246,     0.46346,     0.46446,     0.46547,     0.46647,     0.46747,     0.46847,     0.46947,     0.47047,     0.47147,     0.47247,     0.47347,     0.47447,     0.47548,     0.47648,     0.47748,     0.47848,     0.47948,\n",
       "           0.48048,     0.48148,     0.48248,     0.48348,     0.48448,     0.48549,     0.48649,     0.48749,     0.48849,     0.48949,     0.49049,     0.49149,     0.49249,     0.49349,     0.49449,      0.4955,      0.4965,      0.4975,      0.4985,      0.4995,      0.5005,      0.5015,      0.5025,      0.5035,\n",
       "            0.5045,     0.50551,     0.50651,     0.50751,     0.50851,     0.50951,     0.51051,     0.51151,     0.51251,     0.51351,     0.51451,     0.51552,     0.51652,     0.51752,     0.51852,     0.51952,     0.52052,     0.52152,     0.52252,     0.52352,     0.52452,     0.52553,     0.52653,     0.52753,\n",
       "           0.52853,     0.52953,     0.53053,     0.53153,     0.53253,     0.53353,     0.53453,     0.53554,     0.53654,     0.53754,     0.53854,     0.53954,     0.54054,     0.54154,     0.54254,     0.54354,     0.54454,     0.54555,     0.54655,     0.54755,     0.54855,     0.54955,     0.55055,     0.55155,\n",
       "           0.55255,     0.55355,     0.55455,     0.55556,     0.55656,     0.55756,     0.55856,     0.55956,     0.56056,     0.56156,     0.56256,     0.56356,     0.56456,     0.56557,     0.56657,     0.56757,     0.56857,     0.56957,     0.57057,     0.57157,     0.57257,     0.57357,     0.57457,     0.57558,\n",
       "           0.57658,     0.57758,     0.57858,     0.57958,     0.58058,     0.58158,     0.58258,     0.58358,     0.58458,     0.58559,     0.58659,     0.58759,     0.58859,     0.58959,     0.59059,     0.59159,     0.59259,     0.59359,     0.59459,      0.5956,      0.5966,      0.5976,      0.5986,      0.5996,\n",
       "            0.6006,      0.6016,      0.6026,      0.6036,      0.6046,     0.60561,     0.60661,     0.60761,     0.60861,     0.60961,     0.61061,     0.61161,     0.61261,     0.61361,     0.61461,     0.61562,     0.61662,     0.61762,     0.61862,     0.61962,     0.62062,     0.62162,     0.62262,     0.62362,\n",
       "           0.62462,     0.62563,     0.62663,     0.62763,     0.62863,     0.62963,     0.63063,     0.63163,     0.63263,     0.63363,     0.63463,     0.63564,     0.63664,     0.63764,     0.63864,     0.63964,     0.64064,     0.64164,     0.64264,     0.64364,     0.64464,     0.64565,     0.64665,     0.64765,\n",
       "           0.64865,     0.64965,     0.65065,     0.65165,     0.65265,     0.65365,     0.65465,     0.65566,     0.65666,     0.65766,     0.65866,     0.65966,     0.66066,     0.66166,     0.66266,     0.66366,     0.66466,     0.66567,     0.66667,     0.66767,     0.66867,     0.66967,     0.67067,     0.67167,\n",
       "           0.67267,     0.67367,     0.67467,     0.67568,     0.67668,     0.67768,     0.67868,     0.67968,     0.68068,     0.68168,     0.68268,     0.68368,     0.68468,     0.68569,     0.68669,     0.68769,     0.68869,     0.68969,     0.69069,     0.69169,     0.69269,     0.69369,     0.69469,      0.6957,\n",
       "            0.6967,      0.6977,      0.6987,      0.6997,      0.7007,      0.7017,      0.7027,      0.7037,      0.7047,     0.70571,     0.70671,     0.70771,     0.70871,     0.70971,     0.71071,     0.71171,     0.71271,     0.71371,     0.71471,     0.71572,     0.71672,     0.71772,     0.71872,     0.71972,\n",
       "           0.72072,     0.72172,     0.72272,     0.72372,     0.72472,     0.72573,     0.72673,     0.72773,     0.72873,     0.72973,     0.73073,     0.73173,     0.73273,     0.73373,     0.73473,     0.73574,     0.73674,     0.73774,     0.73874,     0.73974,     0.74074,     0.74174,     0.74274,     0.74374,\n",
       "           0.74474,     0.74575,     0.74675,     0.74775,     0.74875,     0.74975,     0.75075,     0.75175,     0.75275,     0.75375,     0.75475,     0.75576,     0.75676,     0.75776,     0.75876,     0.75976,     0.76076,     0.76176,     0.76276,     0.76376,     0.76476,     0.76577,     0.76677,     0.76777,\n",
       "           0.76877,     0.76977,     0.77077,     0.77177,     0.77277,     0.77377,     0.77477,     0.77578,     0.77678,     0.77778,     0.77878,     0.77978,     0.78078,     0.78178,     0.78278,     0.78378,     0.78478,     0.78579,     0.78679,     0.78779,     0.78879,     0.78979,     0.79079,     0.79179,\n",
       "           0.79279,     0.79379,     0.79479,      0.7958,      0.7968,      0.7978,      0.7988,      0.7998,      0.8008,      0.8018,      0.8028,      0.8038,      0.8048,     0.80581,     0.80681,     0.80781,     0.80881,     0.80981,     0.81081,     0.81181,     0.81281,     0.81381,     0.81481,     0.81582,\n",
       "           0.81682,     0.81782,     0.81882,     0.81982,     0.82082,     0.82182,     0.82282,     0.82382,     0.82482,     0.82583,     0.82683,     0.82783,     0.82883,     0.82983,     0.83083,     0.83183,     0.83283,     0.83383,     0.83483,     0.83584,     0.83684,     0.83784,     0.83884,     0.83984,\n",
       "           0.84084,     0.84184,     0.84284,     0.84384,     0.84484,     0.84585,     0.84685,     0.84785,     0.84885,     0.84985,     0.85085,     0.85185,     0.85285,     0.85385,     0.85485,     0.85586,     0.85686,     0.85786,     0.85886,     0.85986,     0.86086,     0.86186,     0.86286,     0.86386,\n",
       "           0.86486,     0.86587,     0.86687,     0.86787,     0.86887,     0.86987,     0.87087,     0.87187,     0.87287,     0.87387,     0.87487,     0.87588,     0.87688,     0.87788,     0.87888,     0.87988,     0.88088,     0.88188,     0.88288,     0.88388,     0.88488,     0.88589,     0.88689,     0.88789,\n",
       "           0.88889,     0.88989,     0.89089,     0.89189,     0.89289,     0.89389,     0.89489,      0.8959,      0.8969,      0.8979,      0.8989,      0.8999,      0.9009,      0.9019,      0.9029,      0.9039,      0.9049,     0.90591,     0.90691,     0.90791,     0.90891,     0.90991,     0.91091,     0.91191,\n",
       "           0.91291,     0.91391,     0.91491,     0.91592,     0.91692,     0.91792,     0.91892,     0.91992,     0.92092,     0.92192,     0.92292,     0.92392,     0.92492,     0.92593,     0.92693,     0.92793,     0.92893,     0.92993,     0.93093,     0.93193,     0.93293,     0.93393,     0.93493,     0.93594,\n",
       "           0.93694,     0.93794,     0.93894,     0.93994,     0.94094,     0.94194,     0.94294,     0.94394,     0.94494,     0.94595,     0.94695,     0.94795,     0.94895,     0.94995,     0.95095,     0.95195,     0.95295,     0.95395,     0.95495,     0.95596,     0.95696,     0.95796,     0.95896,     0.95996,\n",
       "           0.96096,     0.96196,     0.96296,     0.96396,     0.96496,     0.96597,     0.96697,     0.96797,     0.96897,     0.96997,     0.97097,     0.97197,     0.97297,     0.97397,     0.97497,     0.97598,     0.97698,     0.97798,     0.97898,     0.97998,     0.98098,     0.98198,     0.98298,     0.98398,\n",
       "           0.98498,     0.98599,     0.98699,     0.98799,     0.98899,     0.98999,     0.99099,     0.99199,     0.99299,     0.99399,     0.99499,       0.996,       0.997,       0.998,       0.999,           1]), array([[    0.89431,     0.89431,     0.88618,     0.86992,     0.84553,     0.84553,      0.8374,     0.82114,     0.81301,     0.81301,     0.79675,     0.78862,     0.78862,     0.78862,     0.78862,     0.78862,     0.78049,     0.78049,     0.78049,     0.77236,     0.77236,     0.76423,     0.76423,\n",
       "            0.76423,     0.76423,     0.76423,     0.76423,     0.76423,     0.76423,     0.76423,     0.76423,     0.76423,     0.76423,     0.76423,     0.76423,     0.76423,     0.76423,     0.76423,     0.76423,     0.76423,     0.76423,     0.76423,     0.76423,     0.76423,     0.76423,     0.76423,\n",
       "             0.7561,      0.7561,     0.74892,     0.74797,     0.74797,     0.74433,     0.73984,     0.73984,     0.73171,     0.73171,     0.73171,     0.73171,     0.73171,     0.73171,     0.72358,     0.72358,     0.72358,     0.71545,     0.71545,     0.71545,     0.71067,     0.70732,     0.70732,\n",
       "            0.70732,     0.70732,     0.70732,     0.70732,     0.70732,     0.70732,     0.70732,     0.70732,     0.70732,     0.70732,     0.69919,     0.69919,     0.69919,     0.68293,      0.6748,      0.6748,      0.6748,      0.6748,      0.6748,      0.6748,      0.6748,      0.6748,      0.6748,\n",
       "            0.67058,     0.66667,     0.66667,     0.66667,     0.66667,     0.66667,     0.66667,     0.66667,     0.66667,     0.66667,     0.66667,     0.66667,     0.65854,     0.65854,     0.65854,     0.65854,     0.65854,     0.65854,     0.65854,     0.65854,     0.65854,     0.65854,     0.65854,\n",
       "            0.65854,     0.65854,     0.65854,     0.65854,     0.65854,     0.65854,     0.65854,     0.65854,     0.65854,     0.65854,     0.65854,     0.65854,     0.65854,     0.65854,     0.65854,     0.65854,     0.65854,     0.65854,     0.65854,     0.65854,     0.65854,     0.65854,     0.65852,\n",
       "            0.65041,     0.65041,     0.65041,     0.65041,     0.65041,     0.65041,     0.65041,     0.65041,     0.64228,     0.64228,     0.64228,       0.639,     0.63415,     0.63415,     0.63415,     0.63415,     0.63272,     0.62821,     0.61789,     0.61387,     0.60976,     0.60976,     0.60976,\n",
       "            0.60976,     0.60976,     0.60976,     0.60591,     0.60163,     0.60163,     0.60163,     0.60163,     0.60047,     0.59406,      0.5935,      0.5935,      0.5935,      0.5935,      0.5935,      0.5935,      0.5935,      0.5935,      0.5935,      0.5899,     0.58537,     0.58094,     0.57724,\n",
       "            0.57724,     0.57724,     0.57724,     0.57724,     0.57724,     0.57724,     0.57724,     0.57724,     0.57724,     0.57724,     0.57724,     0.57724,     0.57724,     0.57724,     0.57724,     0.57724,     0.57724,     0.57724,     0.57724,     0.57724,     0.57724,     0.57724,     0.57724,\n",
       "            0.57724,     0.57724,     0.57724,     0.57625,     0.56911,     0.56911,     0.56911,     0.56911,     0.56911,     0.56911,     0.56911,     0.56911,     0.56911,     0.56911,     0.56911,     0.56098,     0.55285,     0.55285,     0.55203,     0.55003,     0.54804,     0.54604,     0.54316,\n",
       "            0.53852,     0.53659,     0.53659,     0.53659,     0.53659,     0.53659,     0.53659,     0.53601,     0.53444,     0.53286,     0.53129,     0.52972,     0.52721,     0.52078,     0.52033,     0.52033,     0.52033,     0.52033,     0.52033,     0.52033,     0.52033,     0.52033,     0.52033,\n",
       "            0.52033,     0.52033,     0.52033,     0.52033,     0.52033,     0.52033,     0.51724,     0.51388,      0.5122,      0.5122,      0.5122,      0.5122,      0.5122,     0.51123,     0.50883,     0.50643,     0.50407,     0.50407,     0.50407,     0.50407,     0.50407,     0.50407,     0.50407,\n",
       "            0.50407,     0.50407,     0.50407,     0.50251,     0.49745,     0.49593,     0.49593,     0.49593,     0.49593,     0.49593,     0.49593,     0.49593,     0.49593,     0.49593,     0.49593,      0.4878,      0.4878,      0.4878,      0.4878,      0.4878,      0.4878,      0.4878,      0.4878,\n",
       "             0.4878,      0.4878,      0.4878,      0.4878,      0.4878,      0.4878,      0.4878,     0.48675,     0.48528,      0.4838,     0.48233,     0.48086,     0.47967,     0.47944,     0.47787,      0.4763,     0.47472,     0.47315,     0.47157,     0.47033,     0.46908,     0.46784,      0.4666,\n",
       "            0.46536,     0.46412,     0.46207,     0.45895,     0.45583,     0.45528,     0.45528,     0.45528,     0.45528,     0.45528,     0.45528,     0.45528,     0.45528,     0.45528,     0.45528,     0.45528,     0.45528,     0.45528,     0.45528,     0.45528,     0.45528,     0.45528,     0.45528,\n",
       "            0.45528,     0.45528,     0.45528,     0.45528,     0.45528,     0.45528,     0.45528,     0.45528,     0.45528,     0.45528,     0.45528,     0.45528,     0.45528,     0.45528,     0.45479,     0.45345,     0.45212,     0.45078,     0.44945,     0.44811,     0.44715,     0.44715,     0.44715,\n",
       "            0.44715,     0.44656,     0.44543,      0.4443,     0.44317,     0.44203,      0.4409,     0.43977,      0.4361,     0.43089,     0.42742,       0.423,     0.42276,     0.42276,     0.42276,     0.42276,     0.42276,     0.42122,     0.41849,     0.41577,     0.41463,     0.41463,     0.41463,\n",
       "            0.41463,     0.41463,     0.41463,     0.41463,     0.41463,     0.41463,     0.41463,     0.41463,     0.41463,     0.41463,     0.41463,     0.41463,     0.41463,     0.41463,     0.41463,     0.41463,     0.41463,     0.41463,     0.41463,     0.41463,     0.41463,     0.41463,     0.41447,\n",
       "            0.41221,     0.40995,     0.40769,     0.39588,     0.39024,     0.39024,     0.39024,     0.39024,     0.39024,     0.39024,     0.39024,     0.39024,     0.39024,     0.39024,     0.39024,     0.39024,     0.39024,     0.39024,     0.39024,     0.39024,     0.39024,     0.39024,     0.39024,\n",
       "            0.39024,     0.39024,     0.38917,     0.38211,     0.38211,     0.38197,     0.38127,     0.38057,     0.37987,     0.37917,     0.37847,     0.37777,     0.37707,     0.37637,     0.37567,     0.37497,     0.37427,     0.37398,     0.37398,     0.37398,     0.37398,     0.37398,     0.37398,\n",
       "            0.37398,     0.37398,     0.37398,     0.37398,     0.37398,     0.37398,     0.37398,     0.37398,     0.37398,     0.37398,     0.37398,     0.37398,     0.37232,     0.36612,     0.36426,      0.3626,     0.36094,     0.35928,     0.35772,     0.35772,     0.35772,     0.35499,     0.34929,\n",
       "            0.34753,     0.34577,     0.34401,     0.34225,     0.34146,     0.34146,     0.34146,     0.34146,     0.34146,     0.34146,     0.34146,     0.33857,     0.33333,     0.33333,     0.33333,     0.33333,     0.33333,     0.33206,     0.32886,     0.32566,     0.31991,     0.31676,     0.31617,\n",
       "            0.31558,     0.31499,      0.3144,     0.31382,     0.31323,     0.31264,     0.31205,     0.31147,     0.31088,     0.31029,      0.3097,     0.30912,     0.30832,     0.30744,     0.30655,     0.30567,     0.30479,     0.30391,     0.30303,     0.30214,     0.30126,     0.29796,     0.29234,\n",
       "            0.28848,     0.28462,     0.28455,     0.28424,     0.28366,     0.28308,      0.2825,     0.28192,     0.28134,     0.28076,     0.28018,      0.2796,     0.27902,     0.27844,     0.27786,     0.27729,     0.27671,     0.27588,     0.27483,     0.27377,     0.27272,     0.27166,     0.27061,\n",
       "            0.26955,      0.2685,     0.26406,     0.25999,     0.25934,     0.25869,     0.25803,     0.25738,     0.25672,     0.25607,     0.25542,     0.25476,     0.25411,     0.25345,      0.2528,     0.25215,     0.25147,      0.2508,     0.25012,     0.24944,     0.24876,     0.24809,     0.24741,\n",
       "            0.24673,     0.24605,     0.24538,      0.2447,     0.24402,     0.24286,     0.24159,     0.24033,     0.23906,      0.2378,     0.23653,     0.23577,     0.23577,     0.23577,      0.2354,     0.23444,     0.23348,     0.23252,     0.23157,     0.23061,     0.22965,     0.22869,     0.22773,\n",
       "            0.22733,     0.22699,     0.22664,      0.2263,     0.22596,     0.22561,     0.22527,     0.22493,     0.22458,     0.22424,      0.2239,     0.22355,     0.22321,     0.22286,     0.22252,     0.22218,     0.22183,     0.22149,     0.22115,      0.2208,     0.22046,     0.22012,     0.21977,\n",
       "            0.21873,      0.2155,     0.21228,     0.21138,     0.21138,     0.21138,     0.21138,     0.21138,     0.21138,     0.21138,     0.21138,     0.21138,     0.21138,     0.21138,      0.2106,     0.20939,     0.20817,     0.20696,     0.20575,     0.20453,     0.20332,     0.20325,     0.20325,\n",
       "            0.20325,     0.20325,     0.20325,     0.20311,     0.20292,     0.20273,     0.20253,     0.20234,     0.20215,     0.20196,     0.20176,     0.20157,     0.20138,     0.20118,     0.20099,      0.2008,      0.2006,     0.20041,     0.20022,     0.20002,     0.19983,     0.19964,     0.19945,\n",
       "            0.19925,     0.19906,     0.19887,     0.19867,     0.19848,     0.19829,     0.19809,      0.1979,     0.19771,     0.19751,     0.19732,     0.19713,     0.19694,     0.19674,     0.19655,     0.19636,     0.19616,     0.19597,     0.19578,     0.19558,     0.19539,      0.1952,     0.19294,\n",
       "            0.18934,     0.18613,     0.18366,     0.18119,     0.17881,     0.17795,     0.17709,     0.17623,     0.17536,      0.1745,     0.17364,     0.17278,     0.17192,     0.17106,     0.16649,     0.16075,     0.15644,     0.15447,     0.15447,     0.15447,     0.15447,     0.15333,     0.15154,\n",
       "            0.14976,     0.14797,     0.14614,     0.14386,     0.14158,      0.1393,     0.13729,     0.13552,     0.13375,     0.13199,     0.13022,     0.12894,      0.1277,     0.12646,     0.12522,     0.12398,     0.12274,     0.12071,     0.11733,     0.11396,     0.10955,     0.10558,     0.10474,\n",
       "            0.10391,     0.10307,     0.10224,     0.10141,     0.10057,    0.099735,      0.0989,    0.098065,     0.09319,    0.088679,    0.087539,    0.086399,    0.085258,    0.084118,    0.082978,    0.081838,    0.080798,    0.079848,    0.078899,    0.077949,    0.076999,    0.076049,    0.075099,\n",
       "           0.074149,    0.073199,    0.072492,    0.071791,    0.071091,     0.07039,     0.06969,    0.068989,    0.068289,    0.067589,    0.066888,    0.066188,    0.065487,    0.064959,    0.064735,    0.064511,    0.064286,    0.064062,    0.063838,    0.063613,    0.063389,    0.063165,     0.06294,\n",
       "           0.062716,    0.062492,    0.062268,    0.062043,    0.061819,    0.061595,     0.06137,    0.061146,    0.060922,    0.060697,    0.060473,    0.060249,    0.060024,      0.0598,    0.059576,    0.059351,    0.059127,    0.058903,    0.058678,    0.058454,     0.05823,    0.058006,    0.057781,\n",
       "           0.057557,    0.057333,    0.057108,    0.056873,    0.056561,    0.056248,    0.055935,    0.055622,    0.055309,    0.054996,    0.054684,    0.054371,    0.054058,    0.053745,    0.053432,    0.053119,    0.052807,    0.052494,    0.052181,    0.051868,    0.051555,    0.051243,     0.05093,\n",
       "           0.050617,    0.050304,    0.049991,    0.049678,    0.049366,    0.049053,    0.048696,    0.048047,    0.047397,    0.046747,    0.046097,    0.045448,    0.044798,    0.044148,    0.043498,    0.042849,    0.042199,    0.041549,      0.0409,    0.032249,    0.031619,    0.030989,    0.030359,\n",
       "           0.029729,    0.029099,    0.028469,     0.02784,     0.02721,     0.02658,     0.02595,     0.02532,     0.02469,    0.024053,    0.023407,    0.022762,    0.022117,    0.021472,    0.020827,    0.020182,    0.019537,    0.018892,    0.018247,    0.017602,    0.016957,    0.016312,    0.015596,\n",
       "           0.014875,    0.014153,    0.013432,    0.012711,    0.011989,    0.011268,    0.010546,   0.0098246,   0.0091032,   0.0083817,           0,           0,           0,           0,           0,           0,           0,           0,           0,           0,           0,           0,           0,\n",
       "                  0,           0,           0,           0,           0,           0,           0,           0,           0,           0,           0,           0,           0,           0,           0,           0,           0,           0,           0,           0,           0,           0,           0,\n",
       "                  0,           0,           0,           0,           0,           0,           0,           0,           0,           0,           0,           0,           0,           0,           0,           0,           0,           0,           0,           0,           0,           0,           0,\n",
       "                  0,           0,           0,           0,           0,           0,           0,           0,           0,           0,           0,           0,           0,           0,           0,           0,           0,           0,           0,           0,           0,           0,           0,\n",
       "                  0,           0,           0,           0,           0,           0,           0,           0,           0,           0,           0,           0,           0,           0,           0,           0,           0,           0,           0,           0,           0,           0,           0,\n",
       "                  0,           0,           0,           0,           0,           0,           0,           0,           0,           0,           0]]), 'Confidence', 'Recall']]\n",
       "fitness: 0.3002762261374392\n",
       "keys: ['metrics/precision(B)', 'metrics/recall(B)', 'metrics/mAP50(B)', 'metrics/mAP50-95(B)']\n",
       "maps: array([     0.2728])\n",
       "names: {0: 'fire'}\n",
       "plot: True\n",
       "results_dict: {'metrics/precision(B)': 0.6282641984473025, 'metrics/recall(B)': 0.45528455284552843, 'metrics/mAP50(B)': 0.5476011820061637, 'metrics/mAP50-95(B)': 0.2727956754853587, 'fitness': 0.3002762261374392}\n",
       "save_dir: WindowsPath('runs/detect/train')\n",
       "speed: {'preprocess': 4.9196975589616265, 'inference': 293.4856963423422, 'loss': 6.951130472305345e-05, 'postprocess': 1.6881500018715132}\n",
       "task: 'detect'"
      ]
     },
     "execution_count": 2,
     "metadata": {},
     "output_type": "execute_result"
    }
   ],
   "source": [
    "#Train the model\n",
    "\n",
    "model.train(data='dataset/data.yaml', \n",
    "            epochs=20, \n",
    "            imgsz=640, \n",
    "            batch=16)"
   ]
  },
  {
   "cell_type": "code",
   "execution_count": 2,
   "id": "dee040cb-6267-4ce1-827f-695cd7cbad8f",
   "metadata": {},
   "outputs": [],
   "source": [
    "fire_model=YOLO('runs/detect/train/weights/best.pt')"
   ]
  },
  {
   "cell_type": "code",
   "execution_count": 4,
   "id": "a3da698c-2e5c-4a30-b500-cb27f4f3c4f5",
   "metadata": {},
   "outputs": [
    {
     "name": "stdout",
     "output_type": "stream",
     "text": [
      "\n",
      "image 1/1 D:\\AI and Data science course\\11.Deep Learning\\6.Fire_Detection_New\\dataset\\test\\images\\car-accident.jpg: 416x640 1 fire, 387.8ms\n",
      "Speed: 6.3ms preprocess, 387.8ms inference, 1.7ms postprocess per image at shape (1, 3, 416, 640)\n",
      "Results saved to \u001b[1mruns\\detect\\predict\u001b[0m\n"
     ]
    }
   ],
   "source": [
    "results=fire_model(\n",
    "    source='dataset/test/images/car-accident.jpg',\n",
    "    show=True,\n",
    "    conf=0.5,\n",
    "    save=True\n",
    ")"
   ]
  },
  {
   "cell_type": "code",
   "execution_count": null,
   "id": "20dcd318-a23c-4fad-9097-cf6b7e4261f7",
   "metadata": {},
   "outputs": [],
   "source": []
  }
 ],
 "metadata": {
  "kernelspec": {
   "display_name": "Python 3 (ipykernel)",
   "language": "python",
   "name": "python3"
  },
  "language_info": {
   "codemirror_mode": {
    "name": "ipython",
    "version": 3
   },
   "file_extension": ".py",
   "mimetype": "text/x-python",
   "name": "python",
   "nbconvert_exporter": "python",
   "pygments_lexer": "ipython3",
   "version": "3.11.11"
  }
 },
 "nbformat": 4,
 "nbformat_minor": 5
}
